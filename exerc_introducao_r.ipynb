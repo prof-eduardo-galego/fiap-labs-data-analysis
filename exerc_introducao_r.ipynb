{
  "nbformat": 4,
  "nbformat_minor": 0,
  "metadata": {
    "colab": {
      "provenance": [],
      "authorship_tag": "ABX9TyNYhuM6ZnDL8ea9NnywM9fv",
      "include_colab_link": true
    },
    "kernelspec": {
      "name": "ir",
      "display_name": "R"
    },
    "language_info": {
      "name": "R"
    }
  },
  "cells": [
    {
      "cell_type": "markdown",
      "metadata": {
        "id": "view-in-github",
        "colab_type": "text"
      },
      "source": [
        "<a href=\"https://colab.research.google.com/github/prof-eduardo-galego/fiap-labs-data-analysis/blob/main/exerc_introducao_r.ipynb\" target=\"_parent\"><img src=\"https://colab.research.google.com/assets/colab-badge.svg\" alt=\"Open In Colab\"/></a>"
      ]
    },
    {
      "cell_type": "markdown",
      "source": [
        "# Lista de Exercícios\n",
        "\n",
        "1. Crie uma função que converta uma temperatura de Fahrenheit para Centígrados. Utilize a seguinte fórmula: $C = (F - 32) * ( 5 / 9 )$."
      ],
      "metadata": {
        "id": "yoOdR7nUwKSs"
      }
    },
    {
      "cell_type": "code",
      "source": [
        "# Informe seu código aqui"
      ],
      "metadata": {
        "id": "W05_9A5hyvkN"
      },
      "execution_count": 1,
      "outputs": []
    },
    {
      "cell_type": "markdown",
      "source": [
        "2. Faça um algoritmo que calcule e imprima o fatorial de um número inteiro. Utilize a seguinte fórmula: $fatorial(5) = 5! = 5 * 4 * 3 * 2 * 1 = 120$"
      ],
      "metadata": {
        "id": "69GpwnI_yv48"
      }
    },
    {
      "cell_type": "code",
      "source": [
        "# Informe seu código aqui"
      ],
      "metadata": {
        "id": "C1fFkOUHyxq8"
      },
      "execution_count": 2,
      "outputs": []
    },
    {
      "cell_type": "markdown",
      "source": [
        "3. Elabore um data.frame com as seguintes informações:\n",
        "\n",
        "| Nome Aluno | Disciplina 1 | Disciplina 2 | Disciplina 3 |\n",
        "|------------|--------------|--------------|--------------|\n",
        "|Aluno 1     |\t3           |\t10\t         | 7            |\n",
        "|Aluno 2     |\t4           | 9            | 8            |\n",
        "|Aluno 3     |\t5\t          | 8            | 9            |\n",
        "|Aluno 4     |\t6\t          | 7            | 10           |\n",
        "|Aluno 5     |\t7\t          | 6            | 7            |\n",
        "|Aluno 6     |\t8           | 5            | 8            |\n",
        "|Aluno 7     |\t9           | 4            | 9            |\n",
        "\n",
        "Faça funções para calcular:\n",
        "1. A média de cada aluno;\n",
        "2. A média de cada disciplina;\n",
        "3. A média final da turma;\n",
        "4. O aluno com média mais alta;\n",
        "5. A lista de alunos reprovados, por disciplina (considerar 7 a nota de corte)."
      ],
      "metadata": {
        "id": "ZB87leI3yx8F"
      }
    },
    {
      "cell_type": "code",
      "source": [
        "# Informe seu código aqui"
      ],
      "metadata": {
        "id": "19JILxL7y1Xc"
      },
      "execution_count": 3,
      "outputs": []
    },
    {
      "cell_type": "markdown",
      "source": [
        "4. A partir do dataset a seguinte, apresente um gráfico que demonstre o desempenho dos times brasileiros nos jogos olímpicos (use a sua criatividade!)."
      ],
      "metadata": {
        "id": "OEEAhlTa1GoN"
      }
    },
    {
      "cell_type": "code",
      "source": [
        "library(readr)\n",
        "df <- read_csv('https://raw.githubusercontent.com/KeithGalli/Olympics-Dataset/refs/heads/master/results/results.csv', show_col_types = FALSE)\n",
        "\n",
        "# Filtrando somente os times brasileiros que ganharam medalha:\n",
        "df_br <- df[df$NOC == 'BRA' & !is.na(df$Medal),]\n",
        "\n",
        "# Extraindo o atributo Year a partir de Games\n",
        "df_br$Year <- as.integer(substr(df_br$Games, 1, 4))\n",
        "df_br\n",
        "\n",
        "# Informe seu código aqui"
      ],
      "metadata": {
        "colab": {
          "base_uri": "https://localhost:8080/",
          "height": 1000
        },
        "id": "Thtsvltk2-kd",
        "outputId": "61528768-bbd5-4e8a-a4b6-20cd5a0dc663"
      },
      "execution_count": 18,
      "outputs": [
        {
          "output_type": "display_data",
          "data": {
            "text/html": [
              "<table class=\"dataframe\">\n",
              "<caption>A tibble: 545 × 12</caption>\n",
              "<thead>\n",
              "\t<tr><th scope=col>Games</th><th scope=col>Event</th><th scope=col>Team</th><th scope=col>Pos</th><th scope=col>Medal</th><th scope=col>As</th><th scope=col>athlete_id</th><th scope=col>NOC</th><th scope=col>Discipline</th><th scope=col>Nationality</th><th scope=col>Unnamed: 7</th><th scope=col>Year</th></tr>\n",
              "\t<tr><th scope=col>&lt;chr&gt;</th><th scope=col>&lt;chr&gt;</th><th scope=col>&lt;chr&gt;</th><th scope=col>&lt;chr&gt;</th><th scope=col>&lt;chr&gt;</th><th scope=col>&lt;chr&gt;</th><th scope=col>&lt;dbl&gt;</th><th scope=col>&lt;chr&gt;</th><th scope=col>&lt;chr&gt;</th><th scope=col>&lt;chr&gt;</th><th scope=col>&lt;lgl&gt;</th><th scope=col>&lt;int&gt;</th></tr>\n",
              "</thead>\n",
              "<tbody>\n",
              "\t<tr><td>1960 Summer Olympics</td><td>Basketball, Men (Olympic)  </td><td>Brazil</td><td>3.0</td><td>Bronze</td><td>Wlamir Marques       </td><td>5090</td><td>BRA</td><td>Basketball (Basketball)</td><td>NA</td><td>NA</td><td>1960</td></tr>\n",
              "\t<tr><td>1964 Summer Olympics</td><td>Basketball, Men (Olympic)  </td><td>Brazil</td><td>3.0</td><td>Bronze</td><td>Wlamir Marques       </td><td>5090</td><td>BRA</td><td>Basketball (Basketball)</td><td>NA</td><td>NA</td><td>1964</td></tr>\n",
              "\t<tr><td>1996 Summer Olympics</td><td>Basketball, Women (Olympic)</td><td>Brazil</td><td>2.0</td><td>Silver</td><td>Leila                </td><td>5205</td><td>BRA</td><td>Basketball (Basketball)</td><td>NA</td><td>NA</td><td>1996</td></tr>\n",
              "\t<tr><td>1996 Summer Olympics</td><td>Basketball, Women (Olympic)</td><td>Brazil</td><td>2.0</td><td>Silver</td><td>Marta Sobral         </td><td>5206</td><td>BRA</td><td>Basketball (Basketball)</td><td>NA</td><td>NA</td><td>1996</td></tr>\n",
              "\t<tr><td>2000 Summer Olympics</td><td>Basketball, Women (Olympic)</td><td>Brazil</td><td>3.0</td><td>Bronze</td><td>Marta Sobral         </td><td>5206</td><td>BRA</td><td>Basketball (Basketball)</td><td>NA</td><td>NA</td><td>2000</td></tr>\n",
              "\t<tr><td>1996 Summer Olympics</td><td>Basketball, Women (Olympic)</td><td>Brazil</td><td>2.0</td><td>Silver</td><td>Janeth               </td><td>5218</td><td>BRA</td><td>Basketball (Basketball)</td><td>NA</td><td>NA</td><td>1996</td></tr>\n",
              "\t<tr><td>2000 Summer Olympics</td><td>Basketball, Women (Olympic)</td><td>Brazil</td><td>3.0</td><td>Bronze</td><td>Janeth               </td><td>5218</td><td>BRA</td><td>Basketball (Basketball)</td><td>NA</td><td>NA</td><td>2000</td></tr>\n",
              "\t<tr><td>1996 Summer Olympics</td><td>Basketball, Women (Olympic)</td><td>Brazil</td><td>2.0</td><td>Silver</td><td>Roseli               </td><td>5255</td><td>BRA</td><td>Basketball (Basketball)</td><td>NA</td><td>NA</td><td>1996</td></tr>\n",
              "\t<tr><td>1996 Summer Olympics</td><td>Basketball, Women (Olympic)</td><td>Brazil</td><td>2.0</td><td>Silver</td><td>Hortência            </td><td>5412</td><td>BRA</td><td>Basketball (Basketball)</td><td>NA</td><td>NA</td><td>1996</td></tr>\n",
              "\t<tr><td>1996 Summer Olympics</td><td>Basketball, Women (Olympic)</td><td>Brazil</td><td>2.0</td><td>Silver</td><td>Alessandra           </td><td>5413</td><td>BRA</td><td>Basketball (Basketball)</td><td>NA</td><td>NA</td><td>1996</td></tr>\n",
              "\t<tr><td>2000 Summer Olympics</td><td>Basketball, Women (Olympic)</td><td>Brazil</td><td>3.0</td><td>Bronze</td><td>Alessandra           </td><td>5413</td><td>BRA</td><td>Basketball (Basketball)</td><td>NA</td><td>NA</td><td>2000</td></tr>\n",
              "\t<tr><td>1996 Summer Olympics</td><td>Basketball, Women (Olympic)</td><td>Brazil</td><td>2.0</td><td>Silver</td><td>Cláudia              </td><td>5425</td><td>BRA</td><td>Basketball (Basketball)</td><td>NA</td><td>NA</td><td>1996</td></tr>\n",
              "\t<tr><td>1996 Summer Olympics</td><td>Basketball, Women (Olympic)</td><td>Brazil</td><td>2.0</td><td>Silver</td><td>Adriana              </td><td>5460</td><td>BRA</td><td>Basketball (Basketball)</td><td>NA</td><td>NA</td><td>1996</td></tr>\n",
              "\t<tr><td>2000 Summer Olympics</td><td>Basketball, Women (Olympic)</td><td>Brazil</td><td>3.0</td><td>Bronze</td><td>Adriana              </td><td>5460</td><td>BRA</td><td>Basketball (Basketball)</td><td>NA</td><td>NA</td><td>2000</td></tr>\n",
              "\t<tr><td>2000 Summer Olympics</td><td>Basketball, Women (Olympic)</td><td>Brazil</td><td>3.0</td><td>Bronze</td><td>Helen                </td><td>5461</td><td>BRA</td><td>Basketball (Basketball)</td><td>NA</td><td>NA</td><td>2000</td></tr>\n",
              "\t<tr><td>1996 Summer Olympics</td><td>Basketball, Women (Olympic)</td><td>Brazil</td><td>2.0</td><td>Silver</td><td>Silvinha             </td><td>5462</td><td>BRA</td><td>Basketball (Basketball)</td><td>NA</td><td>NA</td><td>1996</td></tr>\n",
              "\t<tr><td>2000 Summer Olympics</td><td>Basketball, Women (Olympic)</td><td>Brazil</td><td>3.0</td><td>Bronze</td><td>Silvinha             </td><td>5462</td><td>BRA</td><td>Basketball (Basketball)</td><td>NA</td><td>NA</td><td>2000</td></tr>\n",
              "\t<tr><td>1996 Summer Olympics</td><td>Basketball, Women (Olympic)</td><td>Brazil</td><td>2.0</td><td>Silver</td><td>Cíntia Tuiú          </td><td>5463</td><td>BRA</td><td>Basketball (Basketball)</td><td>NA</td><td>NA</td><td>1996</td></tr>\n",
              "\t<tr><td>2000 Summer Olympics</td><td>Basketball, Women (Olympic)</td><td>Brazil</td><td>3.0</td><td>Bronze</td><td>Cíntia Tuiú          </td><td>5463</td><td>BRA</td><td>Basketball (Basketball)</td><td>NA</td><td>NA</td><td>2000</td></tr>\n",
              "\t<tr><td>1996 Summer Olympics</td><td>Basketball, Women (Olympic)</td><td>Brazil</td><td>2.0</td><td>Silver</td><td>Branca               </td><td>5476</td><td>BRA</td><td>Basketball (Basketball)</td><td>NA</td><td>NA</td><td>1996</td></tr>\n",
              "\t<tr><td>1996 Summer Olympics</td><td>Basketball, Women (Olympic)</td><td>Brazil</td><td>2.0</td><td>Silver</td><td>Paula                </td><td>5477</td><td>BRA</td><td>Basketball (Basketball)</td><td>NA</td><td>NA</td><td>1996</td></tr>\n",
              "\t<tr><td>1948 Summer Olympics</td><td>Basketball, Men (Olympic)  </td><td>Brazil</td><td>3.0</td><td>Bronze</td><td>Affonso Évora        </td><td>5652</td><td>BRA</td><td>Basketball (Basketball)</td><td>NA</td><td>NA</td><td>1948</td></tr>\n",
              "\t<tr><td>1960 Summer Olympics</td><td>Basketball, Men (Olympic)  </td><td>Brazil</td><td>3.0</td><td>Bronze</td><td>Edson Bispo          </td><td>5736</td><td>BRA</td><td>Basketball (Basketball)</td><td>NA</td><td>NA</td><td>1960</td></tr>\n",
              "\t<tr><td>1964 Summer Olympics</td><td>Basketball, Men (Olympic)  </td><td>Brazil</td><td>3.0</td><td>Bronze</td><td>Edson Bispo          </td><td>5736</td><td>BRA</td><td>Basketball (Basketball)</td><td>NA</td><td>NA</td><td>1964</td></tr>\n",
              "\t<tr><td>1960 Summer Olympics</td><td>Basketball, Men (Olympic)  </td><td>Brazil</td><td>3.0</td><td>Bronze</td><td>Waldemar Blatskauskas</td><td>5741</td><td>BRA</td><td>Basketball (Basketball)</td><td>NA</td><td>NA</td><td>1960</td></tr>\n",
              "\t<tr><td>1960 Summer Olympics</td><td>Basketball, Men (Olympic)  </td><td>Brazil</td><td>3.0</td><td>Bronze</td><td>Moysés Blás          </td><td>5743</td><td>BRA</td><td>Basketball (Basketball)</td><td>NA</td><td>NA</td><td>1960</td></tr>\n",
              "\t<tr><td>1964 Summer Olympics</td><td>Basketball, Men (Olympic)  </td><td>Brazil</td><td>3.0</td><td>Bronze</td><td>Fritz                </td><td>5786</td><td>BRA</td><td>Basketball (Basketball)</td><td>NA</td><td>NA</td><td>1964</td></tr>\n",
              "\t<tr><td>1948 Summer Olympics</td><td>Basketball, Men (Olympic)  </td><td>Brazil</td><td>3.0</td><td>Bronze</td><td>Bráz                 </td><td>5787</td><td>BRA</td><td>Basketball (Basketball)</td><td>NA</td><td>NA</td><td>1948</td></tr>\n",
              "\t<tr><td>1948 Summer Olympics</td><td>Basketball, Men (Olympic)  </td><td>Brazil</td><td>3.0</td><td>Bronze</td><td>Algodão              </td><td>5964</td><td>BRA</td><td>Basketball (Basketball)</td><td>NA</td><td>NA</td><td>1948</td></tr>\n",
              "\t<tr><td>1960 Summer Olympics</td><td>Basketball, Men (Olympic)  </td><td>Brazil</td><td>3.0</td><td>Bronze</td><td>Algodão              </td><td>5964</td><td>BRA</td><td>Basketball (Basketball)</td><td>NA</td><td>NA</td><td>1960</td></tr>\n",
              "\t<tr><td>⋮</td><td>⋮</td><td>⋮</td><td>⋮</td><td>⋮</td><td>⋮</td><td>⋮</td><td>⋮</td><td>⋮</td><td>⋮</td><td>⋮</td><td>⋮</td></tr>\n",
              "\t<tr><td>2020 Summer Olympics</td><td>Heavyweight, Men (Olympic)         </td><td>NA           </td><td>=3 </td><td>Bronze</td><td>Abner Teixeira    </td><td>141211</td><td>BRA</td><td>Boxing                       </td><td>NA</td><td>NA</td><td>2020</td></tr>\n",
              "\t<tr><td>2020 Summer Olympics</td><td>Middleweight, Men (Olympic)        </td><td>NA           </td><td>1.0</td><td>Gold  </td><td>Hebert Conceição  </td><td>141212</td><td>BRA</td><td>Boxing                       </td><td>NA</td><td>NA</td><td>2020</td></tr>\n",
              "\t<tr><td>2020 Summer Olympics</td><td>Football, Men (Olympic)            </td><td>Brazil       </td><td>1.0</td><td>Gold  </td><td>Abner             </td><td>141223</td><td>BRA</td><td>Football (Football)          </td><td>NA</td><td>NA</td><td>2020</td></tr>\n",
              "\t<tr><td>2020 Summer Olympics</td><td>Football, Men (Olympic)            </td><td>Brazil       </td><td>1.0</td><td>Gold  </td><td>Antony            </td><td>141224</td><td>BRA</td><td>Football (Football)          </td><td>NA</td><td>NA</td><td>2020</td></tr>\n",
              "\t<tr><td>2020 Summer Olympics</td><td>Football, Men (Olympic)            </td><td>Brazil       </td><td>DNS</td><td>Gold  </td><td>Brenno            </td><td>141225</td><td>BRA</td><td>Football (Football)          </td><td>NA</td><td>NA</td><td>2020</td></tr>\n",
              "\t<tr><td>2020 Summer Olympics</td><td>Football, Men (Olympic)            </td><td>Brazil       </td><td>DNS</td><td>Gold  </td><td>Bruno Fuchs       </td><td>141226</td><td>BRA</td><td>Football (Football)          </td><td>NA</td><td>NA</td><td>2020</td></tr>\n",
              "\t<tr><td>2020 Summer Olympics</td><td>Football, Men (Olympic)            </td><td>Brazil       </td><td>1.0</td><td>Gold  </td><td>Bruno Guimarães   </td><td>141227</td><td>BRA</td><td>Football (Football)          </td><td>NA</td><td>NA</td><td>2020</td></tr>\n",
              "\t<tr><td>2020 Summer Olympics</td><td>Football, Men (Olympic)            </td><td>Brazil       </td><td>1.0</td><td>Gold  </td><td>Claudinho         </td><td>141228</td><td>BRA</td><td>Football (Football)          </td><td>NA</td><td>NA</td><td>2020</td></tr>\n",
              "\t<tr><td>2020 Summer Olympics</td><td>Football, Men (Olympic)            </td><td>Brazil       </td><td>1.0</td><td>Gold  </td><td>Dani Alves        </td><td>141229</td><td>BRA</td><td>Football (Football)          </td><td>NA</td><td>NA</td><td>2020</td></tr>\n",
              "\t<tr><td>2020 Summer Olympics</td><td>Football, Men (Olympic)            </td><td>Brazil       </td><td>1.0</td><td>Gold  </td><td>Diego Carlos      </td><td>141230</td><td>BRA</td><td>Football (Football)          </td><td>NA</td><td>NA</td><td>2020</td></tr>\n",
              "\t<tr><td>2020 Summer Olympics</td><td>Football, Men (Olympic)            </td><td>Brazil       </td><td>1.0</td><td>Gold  </td><td>Douglas Luiz      </td><td>141232</td><td>BRA</td><td>Football (Football)          </td><td>NA</td><td>NA</td><td>2020</td></tr>\n",
              "\t<tr><td>2020 Summer Olympics</td><td>Football, Men (Olympic)            </td><td>Brazil       </td><td>1.0</td><td>Gold  </td><td>Gabriel Martinelli</td><td>141234</td><td>BRA</td><td>Football (Football)          </td><td>NA</td><td>NA</td><td>2020</td></tr>\n",
              "\t<tr><td>2020 Summer Olympics</td><td>Football, Men (Olympic)            </td><td>Brazil       </td><td>1.0</td><td>Gold  </td><td>Gabriel Menino    </td><td>141235</td><td>BRA</td><td>Football (Football)          </td><td>NA</td><td>NA</td><td>2020</td></tr>\n",
              "\t<tr><td>2020 Summer Olympics</td><td>Football, Men (Olympic)            </td><td>Brazil       </td><td>1.0</td><td>Gold  </td><td>Guilherme Arana   </td><td>141236</td><td>BRA</td><td>Football (Football)          </td><td>NA</td><td>NA</td><td>2020</td></tr>\n",
              "\t<tr><td>2020 Summer Olympics</td><td>Football, Men (Olympic)            </td><td>Brazil       </td><td>DNS</td><td>Gold  </td><td>Lucão             </td><td>141237</td><td>BRA</td><td>Football (Football)          </td><td>NA</td><td>NA</td><td>2020</td></tr>\n",
              "\t<tr><td>2020 Summer Olympics</td><td>Football, Men (Olympic)            </td><td>Brazil       </td><td>1.0</td><td>Gold  </td><td>Matheus Cunha     </td><td>141238</td><td>BRA</td><td>Football (Football)          </td><td>NA</td><td>NA</td><td>2020</td></tr>\n",
              "\t<tr><td>2020 Summer Olympics</td><td>Football, Men (Olympic)            </td><td>Brazil       </td><td>1.0</td><td>Gold  </td><td>Matheus Henrique  </td><td>141239</td><td>BRA</td><td>Football (Football)          </td><td>NA</td><td>NA</td><td>2020</td></tr>\n",
              "\t<tr><td>2020 Summer Olympics</td><td>Football, Men (Olympic)            </td><td>Brazil       </td><td>1.0</td><td>Gold  </td><td>Nino              </td><td>141240</td><td>BRA</td><td>Football (Football)          </td><td>NA</td><td>NA</td><td>2020</td></tr>\n",
              "\t<tr><td>2020 Summer Olympics</td><td>Football, Men (Olympic)            </td><td>Brazil       </td><td>1.0</td><td>Gold  </td><td>Paulinho          </td><td>141241</td><td>BRA</td><td>Football (Football)          </td><td>NA</td><td>NA</td><td>2020</td></tr>\n",
              "\t<tr><td>2020 Summer Olympics</td><td>Football, Men (Olympic)            </td><td>Brazil       </td><td>1.0</td><td>Gold  </td><td>Reinier           </td><td>141242</td><td>BRA</td><td>Football (Football)          </td><td>NA</td><td>NA</td><td>2020</td></tr>\n",
              "\t<tr><td>2020 Summer Olympics</td><td>Football, Men (Olympic)            </td><td>Brazil       </td><td>1.0</td><td>Gold  </td><td>Richarlison       </td><td>141243</td><td>BRA</td><td>Football (Football)          </td><td>NA</td><td>NA</td><td>2020</td></tr>\n",
              "\t<tr><td>2020 Summer Olympics</td><td>Football, Men (Olympic)            </td><td>Brazil       </td><td>1.0</td><td>Gold  </td><td>Santos            </td><td>141244</td><td>BRA</td><td>Football (Football)          </td><td>NA</td><td>NA</td><td>2020</td></tr>\n",
              "\t<tr><td>2020 Summer Olympics</td><td>Half-Lightweight, Men (Olympic)    </td><td>NA           </td><td>=3 </td><td>Bronze</td><td>Daniel Cargnin    </td><td>141255</td><td>BRA</td><td>Judo                         </td><td>NA</td><td>NA</td><td>2020</td></tr>\n",
              "\t<tr><td>2020 Summer Olympics</td><td>Street, Men (Olympic)              </td><td>NA           </td><td>2.0</td><td>Silver</td><td>Kelvin Hoefler    </td><td>141263</td><td>BRA</td><td>Skateboarding (Roller Sports)</td><td>NA</td><td>NA</td><td>2020</td></tr>\n",
              "\t<tr><td>2020 Summer Olympics</td><td>Park, Men (Olympic)                </td><td>NA           </td><td>2.0</td><td>Silver</td><td>Pedro Barros      </td><td>141265</td><td>BRA</td><td>Skateboarding (Roller Sports)</td><td>NA</td><td>NA</td><td>2020</td></tr>\n",
              "\t<tr><td>2020 Summer Olympics</td><td>Shortboard, Men (Olympic)          </td><td>NA           </td><td>1.0</td><td>Gold  </td><td>Ítalo Ferreira    </td><td>141268</td><td>BRA</td><td>Surfing                      </td><td>NA</td><td>NA</td><td>2020</td></tr>\n",
              "\t<tr><td>2020 Summer Olympics</td><td>200 metres Freestyle, Men (Olympic)</td><td>NA           </td><td>3.0</td><td>Bronze</td><td>Fernando Scheffer </td><td>141271</td><td>BRA</td><td>Swimming (Aquatics)          </td><td>NA</td><td>NA</td><td>2020</td></tr>\n",
              "\t<tr><td>2020 Summer Olympics</td><td>Football, Men (Olympic)            </td><td>Brazil       </td><td>DNS</td><td>Gold  </td><td>Ricardo Graça     </td><td>147663</td><td>BRA</td><td>Football (Football)          </td><td>NA</td><td>NA</td><td>2020</td></tr>\n",
              "\t<tr><td>2020 Summer Olympics</td><td>Football, Men (Olympic)            </td><td>Brazil       </td><td>1.0</td><td>Gold  </td><td>Malcom            </td><td>147664</td><td>BRA</td><td>Football (Football)          </td><td>NA</td><td>NA</td><td>2020</td></tr>\n",
              "\t<tr><td>2020 Summer Olympics</td><td>Doubles, Women (Olympic)           </td><td>Luísa Stefani</td><td>3.0</td><td>Bronze</td><td>Laura Pigossi     </td><td>147675</td><td>BRA</td><td>Tennis                       </td><td>NA</td><td>NA</td><td>2020</td></tr>\n",
              "</tbody>\n",
              "</table>\n"
            ],
            "text/markdown": "\nA tibble: 545 × 12\n\n| Games &lt;chr&gt; | Event &lt;chr&gt; | Team &lt;chr&gt; | Pos &lt;chr&gt; | Medal &lt;chr&gt; | As &lt;chr&gt; | athlete_id &lt;dbl&gt; | NOC &lt;chr&gt; | Discipline &lt;chr&gt; | Nationality &lt;chr&gt; | Unnamed: 7 &lt;lgl&gt; | Year &lt;int&gt; |\n|---|---|---|---|---|---|---|---|---|---|---|---|\n| 1960 Summer Olympics | Basketball, Men (Olympic)   | Brazil | 3.0 | Bronze | Wlamir Marques        | 5090 | BRA | Basketball (Basketball) | NA | NA | 1960 |\n| 1964 Summer Olympics | Basketball, Men (Olympic)   | Brazil | 3.0 | Bronze | Wlamir Marques        | 5090 | BRA | Basketball (Basketball) | NA | NA | 1964 |\n| 1996 Summer Olympics | Basketball, Women (Olympic) | Brazil | 2.0 | Silver | Leila                 | 5205 | BRA | Basketball (Basketball) | NA | NA | 1996 |\n| 1996 Summer Olympics | Basketball, Women (Olympic) | Brazil | 2.0 | Silver | Marta Sobral          | 5206 | BRA | Basketball (Basketball) | NA | NA | 1996 |\n| 2000 Summer Olympics | Basketball, Women (Olympic) | Brazil | 3.0 | Bronze | Marta Sobral          | 5206 | BRA | Basketball (Basketball) | NA | NA | 2000 |\n| 1996 Summer Olympics | Basketball, Women (Olympic) | Brazil | 2.0 | Silver | Janeth                | 5218 | BRA | Basketball (Basketball) | NA | NA | 1996 |\n| 2000 Summer Olympics | Basketball, Women (Olympic) | Brazil | 3.0 | Bronze | Janeth                | 5218 | BRA | Basketball (Basketball) | NA | NA | 2000 |\n| 1996 Summer Olympics | Basketball, Women (Olympic) | Brazil | 2.0 | Silver | Roseli                | 5255 | BRA | Basketball (Basketball) | NA | NA | 1996 |\n| 1996 Summer Olympics | Basketball, Women (Olympic) | Brazil | 2.0 | Silver | Hortência             | 5412 | BRA | Basketball (Basketball) | NA | NA | 1996 |\n| 1996 Summer Olympics | Basketball, Women (Olympic) | Brazil | 2.0 | Silver | Alessandra            | 5413 | BRA | Basketball (Basketball) | NA | NA | 1996 |\n| 2000 Summer Olympics | Basketball, Women (Olympic) | Brazil | 3.0 | Bronze | Alessandra            | 5413 | BRA | Basketball (Basketball) | NA | NA | 2000 |\n| 1996 Summer Olympics | Basketball, Women (Olympic) | Brazil | 2.0 | Silver | Cláudia               | 5425 | BRA | Basketball (Basketball) | NA | NA | 1996 |\n| 1996 Summer Olympics | Basketball, Women (Olympic) | Brazil | 2.0 | Silver | Adriana               | 5460 | BRA | Basketball (Basketball) | NA | NA | 1996 |\n| 2000 Summer Olympics | Basketball, Women (Olympic) | Brazil | 3.0 | Bronze | Adriana               | 5460 | BRA | Basketball (Basketball) | NA | NA | 2000 |\n| 2000 Summer Olympics | Basketball, Women (Olympic) | Brazil | 3.0 | Bronze | Helen                 | 5461 | BRA | Basketball (Basketball) | NA | NA | 2000 |\n| 1996 Summer Olympics | Basketball, Women (Olympic) | Brazil | 2.0 | Silver | Silvinha              | 5462 | BRA | Basketball (Basketball) | NA | NA | 1996 |\n| 2000 Summer Olympics | Basketball, Women (Olympic) | Brazil | 3.0 | Bronze | Silvinha              | 5462 | BRA | Basketball (Basketball) | NA | NA | 2000 |\n| 1996 Summer Olympics | Basketball, Women (Olympic) | Brazil | 2.0 | Silver | Cíntia Tuiú           | 5463 | BRA | Basketball (Basketball) | NA | NA | 1996 |\n| 2000 Summer Olympics | Basketball, Women (Olympic) | Brazil | 3.0 | Bronze | Cíntia Tuiú           | 5463 | BRA | Basketball (Basketball) | NA | NA | 2000 |\n| 1996 Summer Olympics | Basketball, Women (Olympic) | Brazil | 2.0 | Silver | Branca                | 5476 | BRA | Basketball (Basketball) | NA | NA | 1996 |\n| 1996 Summer Olympics | Basketball, Women (Olympic) | Brazil | 2.0 | Silver | Paula                 | 5477 | BRA | Basketball (Basketball) | NA | NA | 1996 |\n| 1948 Summer Olympics | Basketball, Men (Olympic)   | Brazil | 3.0 | Bronze | Affonso Évora         | 5652 | BRA | Basketball (Basketball) | NA | NA | 1948 |\n| 1960 Summer Olympics | Basketball, Men (Olympic)   | Brazil | 3.0 | Bronze | Edson Bispo           | 5736 | BRA | Basketball (Basketball) | NA | NA | 1960 |\n| 1964 Summer Olympics | Basketball, Men (Olympic)   | Brazil | 3.0 | Bronze | Edson Bispo           | 5736 | BRA | Basketball (Basketball) | NA | NA | 1964 |\n| 1960 Summer Olympics | Basketball, Men (Olympic)   | Brazil | 3.0 | Bronze | Waldemar Blatskauskas | 5741 | BRA | Basketball (Basketball) | NA | NA | 1960 |\n| 1960 Summer Olympics | Basketball, Men (Olympic)   | Brazil | 3.0 | Bronze | Moysés Blás           | 5743 | BRA | Basketball (Basketball) | NA | NA | 1960 |\n| 1964 Summer Olympics | Basketball, Men (Olympic)   | Brazil | 3.0 | Bronze | Fritz                 | 5786 | BRA | Basketball (Basketball) | NA | NA | 1964 |\n| 1948 Summer Olympics | Basketball, Men (Olympic)   | Brazil | 3.0 | Bronze | Bráz                  | 5787 | BRA | Basketball (Basketball) | NA | NA | 1948 |\n| 1948 Summer Olympics | Basketball, Men (Olympic)   | Brazil | 3.0 | Bronze | Algodão               | 5964 | BRA | Basketball (Basketball) | NA | NA | 1948 |\n| 1960 Summer Olympics | Basketball, Men (Olympic)   | Brazil | 3.0 | Bronze | Algodão               | 5964 | BRA | Basketball (Basketball) | NA | NA | 1960 |\n| ⋮ | ⋮ | ⋮ | ⋮ | ⋮ | ⋮ | ⋮ | ⋮ | ⋮ | ⋮ | ⋮ | ⋮ |\n| 2020 Summer Olympics | Heavyweight, Men (Olympic)          | NA            | =3  | Bronze | Abner Teixeira     | 141211 | BRA | Boxing                        | NA | NA | 2020 |\n| 2020 Summer Olympics | Middleweight, Men (Olympic)         | NA            | 1.0 | Gold   | Hebert Conceição   | 141212 | BRA | Boxing                        | NA | NA | 2020 |\n| 2020 Summer Olympics | Football, Men (Olympic)             | Brazil        | 1.0 | Gold   | Abner              | 141223 | BRA | Football (Football)           | NA | NA | 2020 |\n| 2020 Summer Olympics | Football, Men (Olympic)             | Brazil        | 1.0 | Gold   | Antony             | 141224 | BRA | Football (Football)           | NA | NA | 2020 |\n| 2020 Summer Olympics | Football, Men (Olympic)             | Brazil        | DNS | Gold   | Brenno             | 141225 | BRA | Football (Football)           | NA | NA | 2020 |\n| 2020 Summer Olympics | Football, Men (Olympic)             | Brazil        | DNS | Gold   | Bruno Fuchs        | 141226 | BRA | Football (Football)           | NA | NA | 2020 |\n| 2020 Summer Olympics | Football, Men (Olympic)             | Brazil        | 1.0 | Gold   | Bruno Guimarães    | 141227 | BRA | Football (Football)           | NA | NA | 2020 |\n| 2020 Summer Olympics | Football, Men (Olympic)             | Brazil        | 1.0 | Gold   | Claudinho          | 141228 | BRA | Football (Football)           | NA | NA | 2020 |\n| 2020 Summer Olympics | Football, Men (Olympic)             | Brazil        | 1.0 | Gold   | Dani Alves         | 141229 | BRA | Football (Football)           | NA | NA | 2020 |\n| 2020 Summer Olympics | Football, Men (Olympic)             | Brazil        | 1.0 | Gold   | Diego Carlos       | 141230 | BRA | Football (Football)           | NA | NA | 2020 |\n| 2020 Summer Olympics | Football, Men (Olympic)             | Brazil        | 1.0 | Gold   | Douglas Luiz       | 141232 | BRA | Football (Football)           | NA | NA | 2020 |\n| 2020 Summer Olympics | Football, Men (Olympic)             | Brazil        | 1.0 | Gold   | Gabriel Martinelli | 141234 | BRA | Football (Football)           | NA | NA | 2020 |\n| 2020 Summer Olympics | Football, Men (Olympic)             | Brazil        | 1.0 | Gold   | Gabriel Menino     | 141235 | BRA | Football (Football)           | NA | NA | 2020 |\n| 2020 Summer Olympics | Football, Men (Olympic)             | Brazil        | 1.0 | Gold   | Guilherme Arana    | 141236 | BRA | Football (Football)           | NA | NA | 2020 |\n| 2020 Summer Olympics | Football, Men (Olympic)             | Brazil        | DNS | Gold   | Lucão              | 141237 | BRA | Football (Football)           | NA | NA | 2020 |\n| 2020 Summer Olympics | Football, Men (Olympic)             | Brazil        | 1.0 | Gold   | Matheus Cunha      | 141238 | BRA | Football (Football)           | NA | NA | 2020 |\n| 2020 Summer Olympics | Football, Men (Olympic)             | Brazil        | 1.0 | Gold   | Matheus Henrique   | 141239 | BRA | Football (Football)           | NA | NA | 2020 |\n| 2020 Summer Olympics | Football, Men (Olympic)             | Brazil        | 1.0 | Gold   | Nino               | 141240 | BRA | Football (Football)           | NA | NA | 2020 |\n| 2020 Summer Olympics | Football, Men (Olympic)             | Brazil        | 1.0 | Gold   | Paulinho           | 141241 | BRA | Football (Football)           | NA | NA | 2020 |\n| 2020 Summer Olympics | Football, Men (Olympic)             | Brazil        | 1.0 | Gold   | Reinier            | 141242 | BRA | Football (Football)           | NA | NA | 2020 |\n| 2020 Summer Olympics | Football, Men (Olympic)             | Brazil        | 1.0 | Gold   | Richarlison        | 141243 | BRA | Football (Football)           | NA | NA | 2020 |\n| 2020 Summer Olympics | Football, Men (Olympic)             | Brazil        | 1.0 | Gold   | Santos             | 141244 | BRA | Football (Football)           | NA | NA | 2020 |\n| 2020 Summer Olympics | Half-Lightweight, Men (Olympic)     | NA            | =3  | Bronze | Daniel Cargnin     | 141255 | BRA | Judo                          | NA | NA | 2020 |\n| 2020 Summer Olympics | Street, Men (Olympic)               | NA            | 2.0 | Silver | Kelvin Hoefler     | 141263 | BRA | Skateboarding (Roller Sports) | NA | NA | 2020 |\n| 2020 Summer Olympics | Park, Men (Olympic)                 | NA            | 2.0 | Silver | Pedro Barros       | 141265 | BRA | Skateboarding (Roller Sports) | NA | NA | 2020 |\n| 2020 Summer Olympics | Shortboard, Men (Olympic)           | NA            | 1.0 | Gold   | Ítalo Ferreira     | 141268 | BRA | Surfing                       | NA | NA | 2020 |\n| 2020 Summer Olympics | 200 metres Freestyle, Men (Olympic) | NA            | 3.0 | Bronze | Fernando Scheffer  | 141271 | BRA | Swimming (Aquatics)           | NA | NA | 2020 |\n| 2020 Summer Olympics | Football, Men (Olympic)             | Brazil        | DNS | Gold   | Ricardo Graça      | 147663 | BRA | Football (Football)           | NA | NA | 2020 |\n| 2020 Summer Olympics | Football, Men (Olympic)             | Brazil        | 1.0 | Gold   | Malcom             | 147664 | BRA | Football (Football)           | NA | NA | 2020 |\n| 2020 Summer Olympics | Doubles, Women (Olympic)            | Luísa Stefani | 3.0 | Bronze | Laura Pigossi      | 147675 | BRA | Tennis                        | NA | NA | 2020 |\n\n",
            "text/latex": "A tibble: 545 × 12\n\\begin{tabular}{llllllllllll}\n Games & Event & Team & Pos & Medal & As & athlete\\_id & NOC & Discipline & Nationality & Unnamed: 7 & Year\\\\\n <chr> & <chr> & <chr> & <chr> & <chr> & <chr> & <dbl> & <chr> & <chr> & <chr> & <lgl> & <int>\\\\\n\\hline\n\t 1960 Summer Olympics & Basketball, Men (Olympic)   & Brazil & 3.0 & Bronze & Wlamir Marques        & 5090 & BRA & Basketball (Basketball) & NA & NA & 1960\\\\\n\t 1964 Summer Olympics & Basketball, Men (Olympic)   & Brazil & 3.0 & Bronze & Wlamir Marques        & 5090 & BRA & Basketball (Basketball) & NA & NA & 1964\\\\\n\t 1996 Summer Olympics & Basketball, Women (Olympic) & Brazil & 2.0 & Silver & Leila                 & 5205 & BRA & Basketball (Basketball) & NA & NA & 1996\\\\\n\t 1996 Summer Olympics & Basketball, Women (Olympic) & Brazil & 2.0 & Silver & Marta Sobral          & 5206 & BRA & Basketball (Basketball) & NA & NA & 1996\\\\\n\t 2000 Summer Olympics & Basketball, Women (Olympic) & Brazil & 3.0 & Bronze & Marta Sobral          & 5206 & BRA & Basketball (Basketball) & NA & NA & 2000\\\\\n\t 1996 Summer Olympics & Basketball, Women (Olympic) & Brazil & 2.0 & Silver & Janeth                & 5218 & BRA & Basketball (Basketball) & NA & NA & 1996\\\\\n\t 2000 Summer Olympics & Basketball, Women (Olympic) & Brazil & 3.0 & Bronze & Janeth                & 5218 & BRA & Basketball (Basketball) & NA & NA & 2000\\\\\n\t 1996 Summer Olympics & Basketball, Women (Olympic) & Brazil & 2.0 & Silver & Roseli                & 5255 & BRA & Basketball (Basketball) & NA & NA & 1996\\\\\n\t 1996 Summer Olympics & Basketball, Women (Olympic) & Brazil & 2.0 & Silver & Hortência             & 5412 & BRA & Basketball (Basketball) & NA & NA & 1996\\\\\n\t 1996 Summer Olympics & Basketball, Women (Olympic) & Brazil & 2.0 & Silver & Alessandra            & 5413 & BRA & Basketball (Basketball) & NA & NA & 1996\\\\\n\t 2000 Summer Olympics & Basketball, Women (Olympic) & Brazil & 3.0 & Bronze & Alessandra            & 5413 & BRA & Basketball (Basketball) & NA & NA & 2000\\\\\n\t 1996 Summer Olympics & Basketball, Women (Olympic) & Brazil & 2.0 & Silver & Cláudia               & 5425 & BRA & Basketball (Basketball) & NA & NA & 1996\\\\\n\t 1996 Summer Olympics & Basketball, Women (Olympic) & Brazil & 2.0 & Silver & Adriana               & 5460 & BRA & Basketball (Basketball) & NA & NA & 1996\\\\\n\t 2000 Summer Olympics & Basketball, Women (Olympic) & Brazil & 3.0 & Bronze & Adriana               & 5460 & BRA & Basketball (Basketball) & NA & NA & 2000\\\\\n\t 2000 Summer Olympics & Basketball, Women (Olympic) & Brazil & 3.0 & Bronze & Helen                 & 5461 & BRA & Basketball (Basketball) & NA & NA & 2000\\\\\n\t 1996 Summer Olympics & Basketball, Women (Olympic) & Brazil & 2.0 & Silver & Silvinha              & 5462 & BRA & Basketball (Basketball) & NA & NA & 1996\\\\\n\t 2000 Summer Olympics & Basketball, Women (Olympic) & Brazil & 3.0 & Bronze & Silvinha              & 5462 & BRA & Basketball (Basketball) & NA & NA & 2000\\\\\n\t 1996 Summer Olympics & Basketball, Women (Olympic) & Brazil & 2.0 & Silver & Cíntia Tuiú           & 5463 & BRA & Basketball (Basketball) & NA & NA & 1996\\\\\n\t 2000 Summer Olympics & Basketball, Women (Olympic) & Brazil & 3.0 & Bronze & Cíntia Tuiú           & 5463 & BRA & Basketball (Basketball) & NA & NA & 2000\\\\\n\t 1996 Summer Olympics & Basketball, Women (Olympic) & Brazil & 2.0 & Silver & Branca                & 5476 & BRA & Basketball (Basketball) & NA & NA & 1996\\\\\n\t 1996 Summer Olympics & Basketball, Women (Olympic) & Brazil & 2.0 & Silver & Paula                 & 5477 & BRA & Basketball (Basketball) & NA & NA & 1996\\\\\n\t 1948 Summer Olympics & Basketball, Men (Olympic)   & Brazil & 3.0 & Bronze & Affonso Évora         & 5652 & BRA & Basketball (Basketball) & NA & NA & 1948\\\\\n\t 1960 Summer Olympics & Basketball, Men (Olympic)   & Brazil & 3.0 & Bronze & Edson Bispo           & 5736 & BRA & Basketball (Basketball) & NA & NA & 1960\\\\\n\t 1964 Summer Olympics & Basketball, Men (Olympic)   & Brazil & 3.0 & Bronze & Edson Bispo           & 5736 & BRA & Basketball (Basketball) & NA & NA & 1964\\\\\n\t 1960 Summer Olympics & Basketball, Men (Olympic)   & Brazil & 3.0 & Bronze & Waldemar Blatskauskas & 5741 & BRA & Basketball (Basketball) & NA & NA & 1960\\\\\n\t 1960 Summer Olympics & Basketball, Men (Olympic)   & Brazil & 3.0 & Bronze & Moysés Blás           & 5743 & BRA & Basketball (Basketball) & NA & NA & 1960\\\\\n\t 1964 Summer Olympics & Basketball, Men (Olympic)   & Brazil & 3.0 & Bronze & Fritz                 & 5786 & BRA & Basketball (Basketball) & NA & NA & 1964\\\\\n\t 1948 Summer Olympics & Basketball, Men (Olympic)   & Brazil & 3.0 & Bronze & Bráz                  & 5787 & BRA & Basketball (Basketball) & NA & NA & 1948\\\\\n\t 1948 Summer Olympics & Basketball, Men (Olympic)   & Brazil & 3.0 & Bronze & Algodão               & 5964 & BRA & Basketball (Basketball) & NA & NA & 1948\\\\\n\t 1960 Summer Olympics & Basketball, Men (Olympic)   & Brazil & 3.0 & Bronze & Algodão               & 5964 & BRA & Basketball (Basketball) & NA & NA & 1960\\\\\n\t ⋮ & ⋮ & ⋮ & ⋮ & ⋮ & ⋮ & ⋮ & ⋮ & ⋮ & ⋮ & ⋮ & ⋮\\\\\n\t 2020 Summer Olympics & Heavyweight, Men (Olympic)          & NA            & =3  & Bronze & Abner Teixeira     & 141211 & BRA & Boxing                        & NA & NA & 2020\\\\\n\t 2020 Summer Olympics & Middleweight, Men (Olympic)         & NA            & 1.0 & Gold   & Hebert Conceição   & 141212 & BRA & Boxing                        & NA & NA & 2020\\\\\n\t 2020 Summer Olympics & Football, Men (Olympic)             & Brazil        & 1.0 & Gold   & Abner              & 141223 & BRA & Football (Football)           & NA & NA & 2020\\\\\n\t 2020 Summer Olympics & Football, Men (Olympic)             & Brazil        & 1.0 & Gold   & Antony             & 141224 & BRA & Football (Football)           & NA & NA & 2020\\\\\n\t 2020 Summer Olympics & Football, Men (Olympic)             & Brazil        & DNS & Gold   & Brenno             & 141225 & BRA & Football (Football)           & NA & NA & 2020\\\\\n\t 2020 Summer Olympics & Football, Men (Olympic)             & Brazil        & DNS & Gold   & Bruno Fuchs        & 141226 & BRA & Football (Football)           & NA & NA & 2020\\\\\n\t 2020 Summer Olympics & Football, Men (Olympic)             & Brazil        & 1.0 & Gold   & Bruno Guimarães    & 141227 & BRA & Football (Football)           & NA & NA & 2020\\\\\n\t 2020 Summer Olympics & Football, Men (Olympic)             & Brazil        & 1.0 & Gold   & Claudinho          & 141228 & BRA & Football (Football)           & NA & NA & 2020\\\\\n\t 2020 Summer Olympics & Football, Men (Olympic)             & Brazil        & 1.0 & Gold   & Dani Alves         & 141229 & BRA & Football (Football)           & NA & NA & 2020\\\\\n\t 2020 Summer Olympics & Football, Men (Olympic)             & Brazil        & 1.0 & Gold   & Diego Carlos       & 141230 & BRA & Football (Football)           & NA & NA & 2020\\\\\n\t 2020 Summer Olympics & Football, Men (Olympic)             & Brazil        & 1.0 & Gold   & Douglas Luiz       & 141232 & BRA & Football (Football)           & NA & NA & 2020\\\\\n\t 2020 Summer Olympics & Football, Men (Olympic)             & Brazil        & 1.0 & Gold   & Gabriel Martinelli & 141234 & BRA & Football (Football)           & NA & NA & 2020\\\\\n\t 2020 Summer Olympics & Football, Men (Olympic)             & Brazil        & 1.0 & Gold   & Gabriel Menino     & 141235 & BRA & Football (Football)           & NA & NA & 2020\\\\\n\t 2020 Summer Olympics & Football, Men (Olympic)             & Brazil        & 1.0 & Gold   & Guilherme Arana    & 141236 & BRA & Football (Football)           & NA & NA & 2020\\\\\n\t 2020 Summer Olympics & Football, Men (Olympic)             & Brazil        & DNS & Gold   & Lucão              & 141237 & BRA & Football (Football)           & NA & NA & 2020\\\\\n\t 2020 Summer Olympics & Football, Men (Olympic)             & Brazil        & 1.0 & Gold   & Matheus Cunha      & 141238 & BRA & Football (Football)           & NA & NA & 2020\\\\\n\t 2020 Summer Olympics & Football, Men (Olympic)             & Brazil        & 1.0 & Gold   & Matheus Henrique   & 141239 & BRA & Football (Football)           & NA & NA & 2020\\\\\n\t 2020 Summer Olympics & Football, Men (Olympic)             & Brazil        & 1.0 & Gold   & Nino               & 141240 & BRA & Football (Football)           & NA & NA & 2020\\\\\n\t 2020 Summer Olympics & Football, Men (Olympic)             & Brazil        & 1.0 & Gold   & Paulinho           & 141241 & BRA & Football (Football)           & NA & NA & 2020\\\\\n\t 2020 Summer Olympics & Football, Men (Olympic)             & Brazil        & 1.0 & Gold   & Reinier            & 141242 & BRA & Football (Football)           & NA & NA & 2020\\\\\n\t 2020 Summer Olympics & Football, Men (Olympic)             & Brazil        & 1.0 & Gold   & Richarlison        & 141243 & BRA & Football (Football)           & NA & NA & 2020\\\\\n\t 2020 Summer Olympics & Football, Men (Olympic)             & Brazil        & 1.0 & Gold   & Santos             & 141244 & BRA & Football (Football)           & NA & NA & 2020\\\\\n\t 2020 Summer Olympics & Half-Lightweight, Men (Olympic)     & NA            & =3  & Bronze & Daniel Cargnin     & 141255 & BRA & Judo                          & NA & NA & 2020\\\\\n\t 2020 Summer Olympics & Street, Men (Olympic)               & NA            & 2.0 & Silver & Kelvin Hoefler     & 141263 & BRA & Skateboarding (Roller Sports) & NA & NA & 2020\\\\\n\t 2020 Summer Olympics & Park, Men (Olympic)                 & NA            & 2.0 & Silver & Pedro Barros       & 141265 & BRA & Skateboarding (Roller Sports) & NA & NA & 2020\\\\\n\t 2020 Summer Olympics & Shortboard, Men (Olympic)           & NA            & 1.0 & Gold   & Ítalo Ferreira     & 141268 & BRA & Surfing                       & NA & NA & 2020\\\\\n\t 2020 Summer Olympics & 200 metres Freestyle, Men (Olympic) & NA            & 3.0 & Bronze & Fernando Scheffer  & 141271 & BRA & Swimming (Aquatics)           & NA & NA & 2020\\\\\n\t 2020 Summer Olympics & Football, Men (Olympic)             & Brazil        & DNS & Gold   & Ricardo Graça      & 147663 & BRA & Football (Football)           & NA & NA & 2020\\\\\n\t 2020 Summer Olympics & Football, Men (Olympic)             & Brazil        & 1.0 & Gold   & Malcom             & 147664 & BRA & Football (Football)           & NA & NA & 2020\\\\\n\t 2020 Summer Olympics & Doubles, Women (Olympic)            & Luísa Stefani & 3.0 & Bronze & Laura Pigossi      & 147675 & BRA & Tennis                        & NA & NA & 2020\\\\\n\\end{tabular}\n",
            "text/plain": [
              "    Games                Event                               Team          Pos\n",
              "1   1960 Summer Olympics Basketball, Men (Olympic)           Brazil        3.0\n",
              "2   1964 Summer Olympics Basketball, Men (Olympic)           Brazil        3.0\n",
              "3   1996 Summer Olympics Basketball, Women (Olympic)         Brazil        2.0\n",
              "4   1996 Summer Olympics Basketball, Women (Olympic)         Brazil        2.0\n",
              "5   2000 Summer Olympics Basketball, Women (Olympic)         Brazil        3.0\n",
              "6   1996 Summer Olympics Basketball, Women (Olympic)         Brazil        2.0\n",
              "7   2000 Summer Olympics Basketball, Women (Olympic)         Brazil        3.0\n",
              "8   1996 Summer Olympics Basketball, Women (Olympic)         Brazil        2.0\n",
              "9   1996 Summer Olympics Basketball, Women (Olympic)         Brazil        2.0\n",
              "10  1996 Summer Olympics Basketball, Women (Olympic)         Brazil        2.0\n",
              "11  2000 Summer Olympics Basketball, Women (Olympic)         Brazil        3.0\n",
              "12  1996 Summer Olympics Basketball, Women (Olympic)         Brazil        2.0\n",
              "13  1996 Summer Olympics Basketball, Women (Olympic)         Brazil        2.0\n",
              "14  2000 Summer Olympics Basketball, Women (Olympic)         Brazil        3.0\n",
              "15  2000 Summer Olympics Basketball, Women (Olympic)         Brazil        3.0\n",
              "16  1996 Summer Olympics Basketball, Women (Olympic)         Brazil        2.0\n",
              "17  2000 Summer Olympics Basketball, Women (Olympic)         Brazil        3.0\n",
              "18  1996 Summer Olympics Basketball, Women (Olympic)         Brazil        2.0\n",
              "19  2000 Summer Olympics Basketball, Women (Olympic)         Brazil        3.0\n",
              "20  1996 Summer Olympics Basketball, Women (Olympic)         Brazil        2.0\n",
              "21  1996 Summer Olympics Basketball, Women (Olympic)         Brazil        2.0\n",
              "22  1948 Summer Olympics Basketball, Men (Olympic)           Brazil        3.0\n",
              "23  1960 Summer Olympics Basketball, Men (Olympic)           Brazil        3.0\n",
              "24  1964 Summer Olympics Basketball, Men (Olympic)           Brazil        3.0\n",
              "25  1960 Summer Olympics Basketball, Men (Olympic)           Brazil        3.0\n",
              "26  1960 Summer Olympics Basketball, Men (Olympic)           Brazil        3.0\n",
              "27  1964 Summer Olympics Basketball, Men (Olympic)           Brazil        3.0\n",
              "28  1948 Summer Olympics Basketball, Men (Olympic)           Brazil        3.0\n",
              "29  1948 Summer Olympics Basketball, Men (Olympic)           Brazil        3.0\n",
              "30  1960 Summer Olympics Basketball, Men (Olympic)           Brazil        3.0\n",
              "⋮   ⋮                    ⋮                                   ⋮             ⋮  \n",
              "516 2020 Summer Olympics Heavyweight, Men (Olympic)          NA            =3 \n",
              "517 2020 Summer Olympics Middleweight, Men (Olympic)         NA            1.0\n",
              "518 2020 Summer Olympics Football, Men (Olympic)             Brazil        1.0\n",
              "519 2020 Summer Olympics Football, Men (Olympic)             Brazil        1.0\n",
              "520 2020 Summer Olympics Football, Men (Olympic)             Brazil        DNS\n",
              "521 2020 Summer Olympics Football, Men (Olympic)             Brazil        DNS\n",
              "522 2020 Summer Olympics Football, Men (Olympic)             Brazil        1.0\n",
              "523 2020 Summer Olympics Football, Men (Olympic)             Brazil        1.0\n",
              "524 2020 Summer Olympics Football, Men (Olympic)             Brazil        1.0\n",
              "525 2020 Summer Olympics Football, Men (Olympic)             Brazil        1.0\n",
              "526 2020 Summer Olympics Football, Men (Olympic)             Brazil        1.0\n",
              "527 2020 Summer Olympics Football, Men (Olympic)             Brazil        1.0\n",
              "528 2020 Summer Olympics Football, Men (Olympic)             Brazil        1.0\n",
              "529 2020 Summer Olympics Football, Men (Olympic)             Brazil        1.0\n",
              "530 2020 Summer Olympics Football, Men (Olympic)             Brazil        DNS\n",
              "531 2020 Summer Olympics Football, Men (Olympic)             Brazil        1.0\n",
              "532 2020 Summer Olympics Football, Men (Olympic)             Brazil        1.0\n",
              "533 2020 Summer Olympics Football, Men (Olympic)             Brazil        1.0\n",
              "534 2020 Summer Olympics Football, Men (Olympic)             Brazil        1.0\n",
              "535 2020 Summer Olympics Football, Men (Olympic)             Brazil        1.0\n",
              "536 2020 Summer Olympics Football, Men (Olympic)             Brazil        1.0\n",
              "537 2020 Summer Olympics Football, Men (Olympic)             Brazil        1.0\n",
              "538 2020 Summer Olympics Half-Lightweight, Men (Olympic)     NA            =3 \n",
              "539 2020 Summer Olympics Street, Men (Olympic)               NA            2.0\n",
              "540 2020 Summer Olympics Park, Men (Olympic)                 NA            2.0\n",
              "541 2020 Summer Olympics Shortboard, Men (Olympic)           NA            1.0\n",
              "542 2020 Summer Olympics 200 metres Freestyle, Men (Olympic) NA            3.0\n",
              "543 2020 Summer Olympics Football, Men (Olympic)             Brazil        DNS\n",
              "544 2020 Summer Olympics Football, Men (Olympic)             Brazil        1.0\n",
              "545 2020 Summer Olympics Doubles, Women (Olympic)            Luísa Stefani 3.0\n",
              "    Medal  As                    athlete_id NOC Discipline                   \n",
              "1   Bronze Wlamir Marques        5090       BRA Basketball (Basketball)      \n",
              "2   Bronze Wlamir Marques        5090       BRA Basketball (Basketball)      \n",
              "3   Silver Leila                 5205       BRA Basketball (Basketball)      \n",
              "4   Silver Marta Sobral          5206       BRA Basketball (Basketball)      \n",
              "5   Bronze Marta Sobral          5206       BRA Basketball (Basketball)      \n",
              "6   Silver Janeth                5218       BRA Basketball (Basketball)      \n",
              "7   Bronze Janeth                5218       BRA Basketball (Basketball)      \n",
              "8   Silver Roseli                5255       BRA Basketball (Basketball)      \n",
              "9   Silver Hortência             5412       BRA Basketball (Basketball)      \n",
              "10  Silver Alessandra            5413       BRA Basketball (Basketball)      \n",
              "11  Bronze Alessandra            5413       BRA Basketball (Basketball)      \n",
              "12  Silver Cláudia               5425       BRA Basketball (Basketball)      \n",
              "13  Silver Adriana               5460       BRA Basketball (Basketball)      \n",
              "14  Bronze Adriana               5460       BRA Basketball (Basketball)      \n",
              "15  Bronze Helen                 5461       BRA Basketball (Basketball)      \n",
              "16  Silver Silvinha              5462       BRA Basketball (Basketball)      \n",
              "17  Bronze Silvinha              5462       BRA Basketball (Basketball)      \n",
              "18  Silver Cíntia Tuiú           5463       BRA Basketball (Basketball)      \n",
              "19  Bronze Cíntia Tuiú           5463       BRA Basketball (Basketball)      \n",
              "20  Silver Branca                5476       BRA Basketball (Basketball)      \n",
              "21  Silver Paula                 5477       BRA Basketball (Basketball)      \n",
              "22  Bronze Affonso Évora         5652       BRA Basketball (Basketball)      \n",
              "23  Bronze Edson Bispo           5736       BRA Basketball (Basketball)      \n",
              "24  Bronze Edson Bispo           5736       BRA Basketball (Basketball)      \n",
              "25  Bronze Waldemar Blatskauskas 5741       BRA Basketball (Basketball)      \n",
              "26  Bronze Moysés Blás           5743       BRA Basketball (Basketball)      \n",
              "27  Bronze Fritz                 5786       BRA Basketball (Basketball)      \n",
              "28  Bronze Bráz                  5787       BRA Basketball (Basketball)      \n",
              "29  Bronze Algodão               5964       BRA Basketball (Basketball)      \n",
              "30  Bronze Algodão               5964       BRA Basketball (Basketball)      \n",
              "⋮   ⋮      ⋮                     ⋮          ⋮   ⋮                            \n",
              "516 Bronze Abner Teixeira        141211     BRA Boxing                       \n",
              "517 Gold   Hebert Conceição      141212     BRA Boxing                       \n",
              "518 Gold   Abner                 141223     BRA Football (Football)          \n",
              "519 Gold   Antony                141224     BRA Football (Football)          \n",
              "520 Gold   Brenno                141225     BRA Football (Football)          \n",
              "521 Gold   Bruno Fuchs           141226     BRA Football (Football)          \n",
              "522 Gold   Bruno Guimarães       141227     BRA Football (Football)          \n",
              "523 Gold   Claudinho             141228     BRA Football (Football)          \n",
              "524 Gold   Dani Alves            141229     BRA Football (Football)          \n",
              "525 Gold   Diego Carlos          141230     BRA Football (Football)          \n",
              "526 Gold   Douglas Luiz          141232     BRA Football (Football)          \n",
              "527 Gold   Gabriel Martinelli    141234     BRA Football (Football)          \n",
              "528 Gold   Gabriel Menino        141235     BRA Football (Football)          \n",
              "529 Gold   Guilherme Arana       141236     BRA Football (Football)          \n",
              "530 Gold   Lucão                 141237     BRA Football (Football)          \n",
              "531 Gold   Matheus Cunha         141238     BRA Football (Football)          \n",
              "532 Gold   Matheus Henrique      141239     BRA Football (Football)          \n",
              "533 Gold   Nino                  141240     BRA Football (Football)          \n",
              "534 Gold   Paulinho              141241     BRA Football (Football)          \n",
              "535 Gold   Reinier               141242     BRA Football (Football)          \n",
              "536 Gold   Richarlison           141243     BRA Football (Football)          \n",
              "537 Gold   Santos                141244     BRA Football (Football)          \n",
              "538 Bronze Daniel Cargnin        141255     BRA Judo                         \n",
              "539 Silver Kelvin Hoefler        141263     BRA Skateboarding (Roller Sports)\n",
              "540 Silver Pedro Barros          141265     BRA Skateboarding (Roller Sports)\n",
              "541 Gold   Ítalo Ferreira        141268     BRA Surfing                      \n",
              "542 Bronze Fernando Scheffer     141271     BRA Swimming (Aquatics)          \n",
              "543 Gold   Ricardo Graça         147663     BRA Football (Football)          \n",
              "544 Gold   Malcom                147664     BRA Football (Football)          \n",
              "545 Bronze Laura Pigossi         147675     BRA Tennis                       \n",
              "    Nationality Unnamed: 7 Year\n",
              "1   NA          NA         1960\n",
              "2   NA          NA         1964\n",
              "3   NA          NA         1996\n",
              "4   NA          NA         1996\n",
              "5   NA          NA         2000\n",
              "6   NA          NA         1996\n",
              "7   NA          NA         2000\n",
              "8   NA          NA         1996\n",
              "9   NA          NA         1996\n",
              "10  NA          NA         1996\n",
              "11  NA          NA         2000\n",
              "12  NA          NA         1996\n",
              "13  NA          NA         1996\n",
              "14  NA          NA         2000\n",
              "15  NA          NA         2000\n",
              "16  NA          NA         1996\n",
              "17  NA          NA         2000\n",
              "18  NA          NA         1996\n",
              "19  NA          NA         2000\n",
              "20  NA          NA         1996\n",
              "21  NA          NA         1996\n",
              "22  NA          NA         1948\n",
              "23  NA          NA         1960\n",
              "24  NA          NA         1964\n",
              "25  NA          NA         1960\n",
              "26  NA          NA         1960\n",
              "27  NA          NA         1964\n",
              "28  NA          NA         1948\n",
              "29  NA          NA         1948\n",
              "30  NA          NA         1960\n",
              "⋮   ⋮           ⋮          ⋮   \n",
              "516 NA          NA         2020\n",
              "517 NA          NA         2020\n",
              "518 NA          NA         2020\n",
              "519 NA          NA         2020\n",
              "520 NA          NA         2020\n",
              "521 NA          NA         2020\n",
              "522 NA          NA         2020\n",
              "523 NA          NA         2020\n",
              "524 NA          NA         2020\n",
              "525 NA          NA         2020\n",
              "526 NA          NA         2020\n",
              "527 NA          NA         2020\n",
              "528 NA          NA         2020\n",
              "529 NA          NA         2020\n",
              "530 NA          NA         2020\n",
              "531 NA          NA         2020\n",
              "532 NA          NA         2020\n",
              "533 NA          NA         2020\n",
              "534 NA          NA         2020\n",
              "535 NA          NA         2020\n",
              "536 NA          NA         2020\n",
              "537 NA          NA         2020\n",
              "538 NA          NA         2020\n",
              "539 NA          NA         2020\n",
              "540 NA          NA         2020\n",
              "541 NA          NA         2020\n",
              "542 NA          NA         2020\n",
              "543 NA          NA         2020\n",
              "544 NA          NA         2020\n",
              "545 NA          NA         2020"
            ]
          },
          "metadata": {}
        }
      ]
    },
    {
      "cell_type": "code",
      "metadata": {
        "id": "c2228729"
      },
      "source": [
        "\n",
        "\n",
        "head(df_br)"
      ],
      "execution_count": null,
      "outputs": []
    }
  ]
}