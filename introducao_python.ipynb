{
  "nbformat": 4,
  "nbformat_minor": 0,
  "metadata": {
    "colab": {
      "provenance": [],
      "include_colab_link": true
    },
    "kernelspec": {
      "name": "python3",
      "display_name": "Python 3"
    },
    "language_info": {
      "name": "python"
    }
  },
  "cells": [
    {
      "cell_type": "markdown",
      "metadata": {
        "id": "view-in-github",
        "colab_type": "text"
      },
      "source": [
        "<a href=\"https://colab.research.google.com/github/prof-eduardo-galego/fiap-labs-data-analysis/blob/main/introducao_python.ipynb\" target=\"_parent\"><img src=\"https://colab.research.google.com/assets/colab-badge.svg\" alt=\"Open In Colab\"/></a>"
      ]
    },
    {
      "cell_type": "markdown",
      "source": [
        "# Introdução à Linguagem Python\n",
        "\n",
        "Material criado para introdução aos conceitos básicos de Python. Criado por Eduardo Galego (profeduardo.galego@fiap.com.br).\n",
        "\n",
        "Parte do material foi adaptado de https://www.w3schools.com/python.\n",
        "\n",
        "## O que é Python?\n",
        "\n",
        "Trata-se de uma linguagem de programação bem popular, criada por Guido van Rossum em 1991. É utilizado para:\n",
        "* Desenvolvemento Web (*server-side*);\n",
        "* Desenvolvimento de Software;\n",
        "* Aplicações matemáticas;\n",
        "* Sistema de scripts (utilizado nos terminais).\n",
        "\n",
        "Diferente de outras linguagens, a __indentação__ (espaços antes das linhas de código) é muito importante e necessária para a correta execução.\n",
        "\n",
        "Repare que a execução do código abaixo resulta no seguinte erro: `IndentationError: expected an indented block`."
      ],
      "metadata": {
        "id": "yiO1qo9BG41W"
      }
    },
    {
      "cell_type": "code",
      "source": [
        "if 5 > 2:\n",
        "print(\"Five is greater than two!\")"
      ],
      "metadata": {
        "colab": {
          "base_uri": "https://localhost:8080/",
          "height": 130
        },
        "id": "nfoGj9wWIce2",
        "outputId": "e5ee1d4a-645e-410e-acc7-a08c0dbfc4a4"
      },
      "execution_count": null,
      "outputs": [
        {
          "output_type": "error",
          "ename": "IndentationError",
          "evalue": "ignored",
          "traceback": [
            "\u001b[0;36m  File \u001b[0;32m\"<ipython-input-40-a314491c53bb>\"\u001b[0;36m, line \u001b[0;32m2\u001b[0m\n\u001b[0;31m    print(\"Five is greater than two!\")\u001b[0m\n\u001b[0m        ^\u001b[0m\n\u001b[0;31mIndentationError\u001b[0m\u001b[0;31m:\u001b[0m expected an indented block\n"
          ]
        }
      ]
    },
    {
      "cell_type": "markdown",
      "source": [
        "**Exercício:** Tente corrigir o trecho de código anterior.\n",
        "\n",
        "## Comentários\n",
        "\n",
        "Para adicionar comentários à um código, informe o caracter `#` antes do texto. Desta forma, o texto será descartado pelo interpretador.\n",
        "\n",
        "## Variáveis e tipos\n",
        "\n",
        "Python é conhecido como uma linguagem fortemente tipada. Isto significa que toda a variável que for definida possui um tipo, ou seja, um domínio de valores na qual pode ser atribuida.\n",
        "\n",
        "> Dúvida: Se é fortemente tipada, por que não informamos o tipo da variável ao declará-la?\n",
        "\n",
        "Isto acontece porque Python também é conhecido por ter uma tipagem dinâmica: O  interpretador infere o tipo dos dados que uma variável recebe, sem a necessidade que o programador diga de que tipo determinada variável é.\n",
        "\n",
        "Tente executar o trecho de código abaixo. Repare que o seguinte erro será lançado: `TypeError: unsupported operand type(s) for +: 'int' and 'str'`. Isto porque `i` é uma variável do tipo `int` (inteiro) devido à atribuição do valor 10 na linha 1, e `j` é do tipo `str` (String) por causa da atribuição do valor `Rafael` na linha 1."
      ],
      "metadata": {
        "id": "opP4NjyaI0Lw"
      }
    },
    {
      "cell_type": "markdown",
      "source": [],
      "metadata": {
        "id": "k1slcOLcMPlM"
      }
    },
    {
      "cell_type": "code",
      "source": [
        "i, j = 10, \"Rafael\"\n",
        "print(i)\n",
        "print(j)\n",
        "print(\"O resultado é: \", i + j)"
      ],
      "metadata": {
        "colab": {
          "base_uri": "https://localhost:8080/",
          "height": 235
        },
        "id": "G1HNGotgLgKQ",
        "outputId": "ad311e4b-4f06-440d-acf6-f2e804ae6182"
      },
      "execution_count": null,
      "outputs": [
        {
          "output_type": "stream",
          "name": "stdout",
          "text": [
            "10\n",
            "Rafael\n"
          ]
        },
        {
          "output_type": "error",
          "ename": "TypeError",
          "evalue": "ignored",
          "traceback": [
            "\u001b[0;31m---------------------------------------------------------------------------\u001b[0m",
            "\u001b[0;31mTypeError\u001b[0m                                 Traceback (most recent call last)",
            "\u001b[0;32m<ipython-input-41-59d30d90dda6>\u001b[0m in \u001b[0;36m<module>\u001b[0;34m\u001b[0m\n\u001b[1;32m      2\u001b[0m \u001b[0mprint\u001b[0m\u001b[0;34m(\u001b[0m\u001b[0mi\u001b[0m\u001b[0;34m)\u001b[0m\u001b[0;34m\u001b[0m\u001b[0;34m\u001b[0m\u001b[0m\n\u001b[1;32m      3\u001b[0m \u001b[0mprint\u001b[0m\u001b[0;34m(\u001b[0m\u001b[0mj\u001b[0m\u001b[0;34m)\u001b[0m\u001b[0;34m\u001b[0m\u001b[0;34m\u001b[0m\u001b[0m\n\u001b[0;32m----> 4\u001b[0;31m \u001b[0mprint\u001b[0m\u001b[0;34m(\u001b[0m\u001b[0;34m\"O resultado é: \"\u001b[0m\u001b[0;34m,\u001b[0m \u001b[0mi\u001b[0m \u001b[0;34m+\u001b[0m \u001b[0mj\u001b[0m\u001b[0;34m)\u001b[0m\u001b[0;34m\u001b[0m\u001b[0;34m\u001b[0m\u001b[0m\n\u001b[0m",
            "\u001b[0;31mTypeError\u001b[0m: unsupported operand type(s) for +: 'int' and 'str'"
          ]
        }
      ]
    },
    {
      "cell_type": "markdown",
      "source": [
        "__Exercício:__ Tente corrigir o trecho de código anterior. Dica: utilize a função `str()`.\n",
        "\n",
        "Um conceito muito importante para quem está aprendendo Data Analytics é o __DataSet__: Trata-se de um conjunto de dados (variáveis) dispersas em uma ou mais dimensões. O exemplo mais simples de uma DataSet é um __array__ (mais para frente veremos outros formatos de DataSet).\n",
        "\n",
        "Outro conceito importante são as __Categorias__ dos tipos de dados, que podem ser:\n",
        "1. Númerico: são os tipos numérico, divididos em duas subcategorias: Discretos (inteiros) ou Contínuo (ponto flutuante);\n",
        "2. Categórico: Tratam-se de valores sem uma medida. Exemplos: cores, modelos de carros, valores booleanos (verdadeiro ou falso).\n",
        "3. Ordinal: São semelhante a valores categóricos, mas pode-se aplicar uma medida entre os valores. Exemplo: Notas de escola, onde A é maior que B.\n",
        "\n",
        "Segue trecho de código para criação de um array numérico, assim como a função que captura a quantidade e algumas operações de sub array:"
      ],
      "metadata": {
        "id": "XDJr_LRhMQ28"
      }
    },
    {
      "cell_type": "code",
      "source": [
        "speed = [99,86,87,88,111,86,103,87,94,78,77,85,86]\n",
        "print(len(speed))\n",
        "print(speed[0])\n",
        "print(speed[-1])\n",
        "print(speed[2:4])"
      ],
      "metadata": {
        "colab": {
          "base_uri": "https://localhost:8080/"
        },
        "id": "deJOBVkzYEqe",
        "outputId": "e598a593-9bf6-4f06-9a3d-1fa8721d8e42"
      },
      "execution_count": null,
      "outputs": [
        {
          "output_type": "stream",
          "name": "stdout",
          "text": [
            "13\n",
            "99\n",
            "86\n",
            "[87, 88]\n"
          ]
        }
      ]
    },
    {
      "cell_type": "markdown",
      "source": [
        "## Módulos\n",
        "\n",
        "Podemos importar métodos e funções a partir de arquivos dentro do nosso projeto. É a forma que temos para executar código de bibliotecas terceiras."
      ],
      "metadata": {
        "id": "6d81x2dvoy6s"
      }
    },
    {
      "cell_type": "code",
      "source": [
        "import numpy\n",
        "from scipy import stats\n",
        "import matplotlib.pyplot as plt"
      ],
      "metadata": {
        "id": "6PIrziQ8pXe0"
      },
      "execution_count": null,
      "outputs": []
    },
    {
      "cell_type": "markdown",
      "source": [
        "## Operações Estatísticas\n",
        "\n",
        "Na próxima seção vamos apresentar algumas das principais operações estatística que usaremos nas próximas aulas.\n",
        "\n",
        "### Média, Mediana e Moda\n",
        "\n",
        "\"Moda, média e a mediana são conhecidas como __medidas de tendências centrais__. No estudo da Estatística, é bastante comum que elas sejam utilizadas para compreender melhor o comportamento de um conjunto de dados\" (texto extraído de https://brasilescola.uol.com.br/matematica/moda-media-mediana.htm).\n",
        "\n",
        "1. __Média:__ Descreve o valor médio de uma lista de valores. Para calcular, encontre a soma de todos os valores e divida pelo número de valores (média aritmética)."
      ],
      "metadata": {
        "id": "8pFJbaFKieJu"
      }
    },
    {
      "cell_type": "code",
      "source": [
        "mean = numpy.mean(speed)\n",
        "print(mean)"
      ],
      "metadata": {
        "colab": {
          "base_uri": "https://localhost:8080/"
        },
        "id": "UDGSO-0Wj6hp",
        "outputId": "9c4c1896-5340-40f5-d3e7-ad97691b8b86"
      },
      "execution_count": null,
      "outputs": [
        {
          "output_type": "stream",
          "name": "stdout",
          "text": [
            "89.76923076923077\n"
          ]
        }
      ]
    },
    {
      "cell_type": "markdown",
      "source": [
        "2. __Mediana:__ O valor mediano é o valor central de uma lista ordenada."
      ],
      "metadata": {
        "id": "oVO89xyNkJLG"
      }
    },
    {
      "cell_type": "code",
      "source": [
        "median = numpy.median(speed)\n",
        "print(median)"
      ],
      "metadata": {
        "colab": {
          "base_uri": "https://localhost:8080/"
        },
        "id": "nu_ftDebkYfe",
        "outputId": "93091da7-dd40-4dbd-af1b-8dda7aa664ed"
      },
      "execution_count": null,
      "outputs": [
        {
          "output_type": "stream",
          "name": "stdout",
          "text": [
            "87.0\n"
          ]
        }
      ]
    },
    {
      "cell_type": "markdown",
      "source": [
        "3. __Moda:__ Representa o valor que mais se repete em uma lista. O resultado desta função retorna dois valores: O valor da moda e a quantidade em que a moda aparece na lista."
      ],
      "metadata": {
        "id": "9vmHPEtbkn38"
      }
    },
    {
      "cell_type": "code",
      "source": [
        "moda = stats.mode(speed)\n",
        "print(moda)"
      ],
      "metadata": {
        "colab": {
          "base_uri": "https://localhost:8080/"
        },
        "id": "aStKeNwkkwaZ",
        "outputId": "3b69ea88-e5c0-40a9-c4b7-1afb8543174b"
      },
      "execution_count": null,
      "outputs": [
        {
          "output_type": "stream",
          "name": "stdout",
          "text": [
            "ModeResult(mode=array([86]), count=array([3]))\n"
          ]
        }
      ]
    },
    {
      "cell_type": "markdown",
      "source": [
        "### Desvio Padrão\n",
        "\n",
        "Desvio padrão é um número que descreve o quão espalhado os valores estão. Um valor baixo significa que os números estão próximos à media."
      ],
      "metadata": {
        "id": "GGHuiS7NlhcN"
      }
    },
    {
      "cell_type": "code",
      "source": [
        "speed1 = [86,87,88,86,87,85,86]\n",
        "lowSd = numpy.std(speed1)\n",
        "print(lowSd)\n",
        "\n",
        "speed2 = [32,111,138,28,59,77,97]\n",
        "highSd = numpy.std(speed2)\n",
        "print(highSd)"
      ],
      "metadata": {
        "colab": {
          "base_uri": "https://localhost:8080/"
        },
        "id": "I4kD3Vd9l8k4",
        "outputId": "44b82679-6c5d-4d1e-9870-dab0ec13b1d7"
      },
      "execution_count": null,
      "outputs": [
        {
          "output_type": "stream",
          "name": "stdout",
          "text": [
            "0.9035079029052513\n",
            "37.84501153334721\n"
          ]
        }
      ]
    },
    {
      "cell_type": "markdown",
      "source": [
        "### Percentil\n",
        "\n",
        "\"Percentis são medidas que dividem a amostra ordenada (por ordem crescente dos dados) em 100 partes, cada uma com uma percentagem de dados aproximadamente igual. (...) O 1º e o 3º quartis também são conhecidos como percentis 25 e 75, respetivamente. Analogamente, a mediana é o percentil 50.\" (*Texto extraído de https://wikiciencias.casadasciencias.org/wiki/index.php/Percentis*).\n",
        "\n",
        "\n",
        "Exemplo: Digamos que temos uma lista de idades de pessoasque vivem em uma determinada rua.\n"
      ],
      "metadata": {
        "id": "162xeKL7mbeX"
      }
    },
    {
      "cell_type": "code",
      "source": [
        "ages = [5,31,43,48,50,41,7,11,15,39,80,82,32,2,8,6,25,36,27,61,31]"
      ],
      "metadata": {
        "id": "WyxVY6OtnK40"
      },
      "execution_count": null,
      "outputs": []
    },
    {
      "cell_type": "markdown",
      "source": [
        "Qual o valor do 75 percentil? A resposta é `43.0`, o que significa que 75% das pessoas possuem 43 anos ou menos."
      ],
      "metadata": {
        "id": "2Jd5_oVrnNps"
      }
    },
    {
      "cell_type": "code",
      "source": [
        "perc75 = numpy.percentile(ages, 75)\n",
        "print(perc75)"
      ],
      "metadata": {
        "colab": {
          "base_uri": "https://localhost:8080/"
        },
        "id": "RSynyveJnf4E",
        "outputId": "42c6d900-db17-44dc-9a2b-c32bfe0e360a"
      },
      "execution_count": null,
      "outputs": [
        {
          "output_type": "stream",
          "name": "stdout",
          "text": [
            "43.0\n"
          ]
        }
      ]
    },
    {
      "cell_type": "markdown",
      "source": [
        "## Histograma\n",
        "\n",
        "\"Um histograma é um gráfico de barras que demonstra uma distribuição de frequências. No histograma, a base de cada uma das barras representa uma classe e a altura representa a quantidade ou frequência absoluta com que o valor de cada classe ocorre. Ao mesmo tempo, ele pode ser utilizado como um indicador de dispersão de processos.\" (*Texto adaptado de https://www.alura.com.br/artigos/o-que-e-um-histograma*).\n",
        "\n",
        "Para o exemplo abaixo, vamos precisar de uma dataset maior. Para isso, vamos criar um com valores aleatórios:"
      ],
      "metadata": {
        "id": "24mFWxdhoGH9"
      }
    },
    {
      "cell_type": "code",
      "source": [
        "numpy.random.seed(1);\n",
        "bigDataSet = numpy.random.uniform(0.0, 5.0, 250)\n",
        "print(bigDataSet)"
      ],
      "metadata": {
        "colab": {
          "base_uri": "https://localhost:8080/"
        },
        "id": "LSpnYKFWoqzz",
        "outputId": "da1079b3-f64c-4228-ccf6-012559b5905e"
      },
      "execution_count": null,
      "outputs": [
        {
          "output_type": "stream",
          "name": "stdout",
          "text": [
            "[2.08511002e+00 3.60162247e+00 5.71874087e-04 1.51166286e+00\n",
            " 7.33779454e-01 4.61692974e-01 9.31301057e-01 1.72780364e+00\n",
            " 1.98383737e+00 2.69408367e+00 2.09597257e+00 3.42609750e+00\n",
            " 1.02226125e+00 4.39058718e+00 1.36937966e-01 3.35233755e+00\n",
            " 2.08652401e+00 2.79344914e+00 7.01934693e-01 9.90507445e-01\n",
            " 4.00372284e+00 4.84130788e+00 1.56712089e+00 3.46161308e+00\n",
            " 4.38194576e+00 4.47303332e+00 4.25221057e-01 1.95273916e-01\n",
            " 8.49152098e-01 4.39071252e+00 4.91734169e-01 2.10553813e+00\n",
            " 4.78944765e+00 2.66582642e+00 3.45938557e+00 1.57757816e+00\n",
            " 3.43250464e+00 4.17312836e+00 9.14413867e-02 3.75072157e+00\n",
            " 4.94430544e+00 3.74082827e+00 1.40221996e+00 3.94639664e+00\n",
            " 5.16130033e-01 2.23946763e+00 4.54297752e+00 1.46807074e+00\n",
            " 1.43887669e+00 6.50142861e-01 9.68347894e-02 3.39417766e+00\n",
            " 1.05814058e+00 1.32773330e+00 2.45786580e+00 2.66812726e-01\n",
            " 2.87058803e+00 7.33642875e-01 2.94652768e+00 3.49879180e+00\n",
            " 5.11672144e-01 2.07027994e+00 3.47200079e+00 2.07089635e+00\n",
            " 2.49767295e-01 2.67948203e+00 3.31897323e+00 2.57444556e+00\n",
            " 4.72297378e+00 2.93277520e+00 4.51700958e+00 6.87373521e-01\n",
            " 6.96381736e-01 4.03695644e+00 1.98838418e+00 8.26770986e-01\n",
            " 4.63754290e+00 1.73882930e+00 3.75406052e+00 3.62998993e+00\n",
            " 4.41653046e+00 3.11836104e+00 3.75471217e+00 1.74449171e+00\n",
            " 1.34963946e+00 4.47943109e+00 2.14045595e+00 4.82420024e+00\n",
            " 3.31720749e+00 3.10847860e+00 5.73729865e-01 4.74744629e+00\n",
            " 2.24956067e+00 2.89194807e+00 2.04068401e+00 1.18513490e+00\n",
            " 4.51689760e+00 2.86839743e+00 1.43516352e-02 3.08572457e+00\n",
            " 1.63322451e+00 2.63529051e+00 4.42971050e+00 1.78634880e+00\n",
            " 4.54267575e+00 3.11680058e+00 7.91062142e-02 4.64718617e+00\n",
            " 3.45448459e+00 4.98661425e+00 8.61702542e-01 6.85678748e-01\n",
            " 4.66297732e+00 3.48409081e+00 3.30000864e-01 3.77731526e+00\n",
            " 3.76938094e+00 4.61512268e+00 3.55762379e+00 6.21354810e-01\n",
            " 9.94006692e-02 1.31054934e-01 1.41532440e-01 1.23105534e+00\n",
            " 4.30013974e+00 2.69415532e+00 2.76410989e+00 4.21015446e+00\n",
            " 6.20866576e-01 1.39591840e+00 2.92879636e+00 4.84797874e+00\n",
            " 2.80515110e+00 9.32364469e-02 4.00316336e+00 1.16487137e+00\n",
            " 4.03552598e+00 1.93930322e+00 4.31770927e+00 3.73560821e+00\n",
            " 2.78120117e+00 6.82276128e-01 2.99588448e-01 6.06717279e-01\n",
            " 2.22759393e-01 5.37470646e-01 1.12854669e+00 3.56494490e+00\n",
            " 2.79858491e+00 6.27799008e-02 3.59871398e-01 4.83638165e+00\n",
            " 2.84050231e+00 1.01646617e+00 1.26162872e+00 3.71912927e+00\n",
            " 9.77147406e-01 2.90679464e+00 4.85009995e+00 4.23414401e+00\n",
            " 1.19923880e+00 2.46884857e+00 3.09977859e+00 4.14490450e+00\n",
            " 7.83956973e-01 9.28810109e-02 3.50110719e-01 2.43172555e+00\n",
            " 3.03164731e+00 2.84425719e+00 1.58681205e+00 4.94308077e+00\n",
            " 2.89872610e+00 1.90070586e+00 2.75474110e+00 3.72667215e+00\n",
            " 3.34616447e+00 1.32459779e+00 3.31674172e-01 1.85042099e+00\n",
            " 3.14858754e+00 1.05087005e+00 3.76377777e+00 3.32682407e-01\n",
            " 1.30157549e+00 4.02377282e+00 9.67171413e-01 3.19730440e+00\n",
            " 2.62335155e+00 4.62403985e+00 1.31648385e+00 3.29805453e-01\n",
            " 3.67532982e+00 3.86089015e+00 4.53907926e+00 4.65986035e+00\n",
            " 6.97578649e-02 1.17181043e+00 3.08389179e+00 4.74508160e+00\n",
            " 4.75088060e+00 2.78326594e+00 4.57803175e+00 3.20783104e+00\n",
            " 1.95003857e+00 2.42995334e+00 3.02155241e+00 2.74773961e+00\n",
            " 4.63090713e+00 4.59366718e+00 1.97437806e+00 4.81631264e+00\n",
            " 8.69778333e-01 6.31647597e-01 6.75395790e-01 2.52831083e+00\n",
            " 1.07624026e-01 4.73985106e+00 4.13557736e+00 7.50949037e-02\n",
            " 8.80981278e-01 1.66031787e+00 6.54984224e-01 4.04745346e+00\n",
            " 1.72368326e+00 4.70053741e+00 2.91007090e+00 4.39415992e+00\n",
            " 4.22367223e+00 4.52696159e+00 2.29940133e+00 2.73173408e+00\n",
            " 3.99301796e+00 1.42859426e+00 2.45126761e+00 2.99555154e+00\n",
            " 7.76663778e-02 2.96740704e+00 2.16838174e+00 4.03680264e+00\n",
            " 1.57622402e+00 4.46444354e+00 2.88928608e+00 9.20051008e-01\n",
            " 3.93964617e+00 3.06015589e+00 2.69546360e-01 2.10096840e+00\n",
            " 3.39534418e+00 4.59300889e+00]\n"
          ]
        }
      ]
    },
    {
      "cell_type": "markdown",
      "source": [
        "Para a construção de um histograma dividido em cinco grupos, utilizamos o comando abaixo:"
      ],
      "metadata": {
        "id": "DQuVep1cqy4W"
      }
    },
    {
      "cell_type": "code",
      "source": [
        "plt.hist(bigDataSet, 5)\n",
        "plt.show()"
      ],
      "metadata": {
        "colab": {
          "base_uri": "https://localhost:8080/",
          "height": 265
        },
        "id": "tD8oJ7ynqyHV",
        "outputId": "8c5b09b4-fe27-4941-b021-278750564e83"
      },
      "execution_count": null,
      "outputs": [
        {
          "output_type": "display_data",
          "data": {
            "text/plain": [
              "<Figure size 432x288 with 1 Axes>"
            ],
            "image/png": "[encoded data removed]"
          },
          "metadata": {
            "needs_background": "light"
          }
        }
      ]
    },
    {
      "cell_type": "markdown",
      "source": [
        "Para deixar claro o que significa cada barra:\n",
        "* 60 valores estão entre 0 e 1;\n",
        "* 40 valores estão entre 1 e 2;\n",
        "* 48 valores estão entre 2 e 3;\n",
        "* 45 valores estão entre 3 e 4;\n",
        "* 57 valores estão entre 4 e 5."
      ],
      "metadata": {
        "id": "EkvnAUgtqxRF"
      }
    },
    {
      "cell_type": "markdown",
      "source": [
        "Por se tratar de valores randômicos, podemos perceber no histograma que a distribuição dos valores não possuem qualquer padrão, o que nos impede de tirar algum insigth.\n",
        "\n",
        "No entanto, existe determinados cenários que a distribuição dos valores traçam um histograma semelhante a uma \"montanha\". Isto é conhecido como __Distribuição Normal__ ou __Distribuição Gaussiana__. Segue um exemplo de como gerar uma distribuição normal:"
      ],
      "metadata": {
        "id": "kOkrpKGbsSZI"
      }
    },
    {
      "cell_type": "code",
      "source": [
        "distNormal = numpy.random.normal(5.0, 1.0, 100000)\n",
        "\n",
        "plt.hist(distNormal, 100)\n",
        "plt.show()"
      ],
      "metadata": {
        "colab": {
          "base_uri": "https://localhost:8080/",
          "height": 265
        },
        "id": "8S_jJ8-ytNUX",
        "outputId": "11eb60e5-b498-4c39-bdef-727e68470785"
      },
      "execution_count": null,
      "outputs": [
        {
          "output_type": "display_data",
          "data": {
            "text/plain": [
              "<Figure size 432x288 with 1 Axes>"
            ],
            "image/png": "[encoded data removed]"
          },
          "metadata": {
            "needs_background": "light"
          }
        }
      ]
    },
    {
      "cell_type": "markdown",
      "source": [
        "## Gráfico de Dispersão\n",
        "\n",
        "Trata-se de gráfico que apresenta os valores dentro de um plano cartesiano, em forma de ponto. Este gráfico nos ajuda a identificar a existência de relação de causa e efeito entre duas variáveis de natureza quantitativa.\n",
        "\n",
        "Segue um exemplo:"
      ],
      "metadata": {
        "id": "tkn9WsS8tumH"
      }
    },
    {
      "cell_type": "code",
      "source": [
        "ageCar = [5,7,8,7,2,17,2,9,4,11,12,9,6]\n",
        "maxSpeedCar = [99,86,87,88,111,86,103,87,94,78,77,85,86]\n",
        "\n",
        "plt.scatter(ageCar, maxSpeedCar)\n",
        "plt.show()"
      ],
      "metadata": {
        "colab": {
          "base_uri": "https://localhost:8080/",
          "height": 265
        },
        "id": "-EMAntcwuPX-",
        "outputId": "03c5f9ea-61db-47cb-9ca7-44aa41cf760b"
      },
      "execution_count": null,
      "outputs": [
        {
          "output_type": "display_data",
          "data": {
            "text/plain": [
              "<Figure size 432x288 with 1 Axes>"
            ],
            "image/png": "[encoded data removed]"
          },
          "metadata": {
            "needs_background": "light"
          }
        }
      ]
    },
    {
      "cell_type": "markdown",
      "source": [
        "Repare que podemos notar que um carro mais novo alcança uma velocidade maior do que os carros mais antigos."
      ],
      "metadata": {
        "id": "LLlnL1fqujjc"
      }
    },
    {
      "cell_type": "markdown",
      "source": [
        "## Detecção de Outliers\n",
        "\n",
        "\"Os __Outliers__ são dados que se diferenciam drasticamente de todos os outros. Em outras palavras, um outlier é um valor que foge da normalidade e que pode (e provavelmente irá) causar anomalias nos resultados obtidos por meio de algoritmos e sistemas de análise.\"\n",
        "\n",
        "Entender os outliers é fundamental em uma análise de dados por pelo menos dois aspectos:\n",
        "\n",
        "- Os outliers podem viesar negativamente todo o resultado de uma análise;\n",
        "- O comportamento dos outliers pode ser justamente o que está sendo procurado.\"\n",
        "\n",
        "(*Texto extraído de https://www.aquare.la/o-que-sao-outliers-e-como-trata-los-em-uma-analise-de-dados/*).\n",
        "\n",
        "Existem várias estratégias para identificar um outliers. No exemplo abaixo, utilizamos um cálcula para estipular o quão distante um dado está com relação à média e o desvio padrão:"
      ],
      "metadata": {
        "id": "ImP0Ros-nTJc"
      }
    },
    {
      "cell_type": "code",
      "source": [
        "def fctOutlier(x):\n",
        "  z = (x - numpy.mean(x)) / numpy.std(x)\n",
        "  return(abs(z) > 3)\n",
        "\n",
        "dados = [1,1,1,1,1,1,1,1,1,1,1,1,1,10000000000]\n",
        "print(dados)\n",
        "print(fctOutlier(dados))"
      ],
      "metadata": {
        "colab": {
          "base_uri": "https://localhost:8080/"
        },
        "id": "laleuoQQmY_F",
        "outputId": "e4dc10ff-d3e7-407b-883f-7655c454c113"
      },
      "execution_count": null,
      "outputs": [
        {
          "output_type": "stream",
          "name": "stdout",
          "text": [
            "[1, 1, 1, 1, 1, 1, 1, 1, 1, 1, 1, 1, 1, 10000000000]\n",
            "[False False False False False False False False False False False False\n",
            " False  True]\n"
          ]
        }
      ]
    }
  ]
}