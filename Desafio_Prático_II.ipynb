{
  "nbformat": 4,
  "nbformat_minor": 0,
  "metadata": {
    "colab": {
      "provenance": [],
      "include_colab_link": true
    },
    "kernelspec": {
      "name": "ir",
      "display_name": "R"
    },
    "language_info": {
      "name": "R"
    }
  },
  "cells": [
    {
      "cell_type": "markdown",
      "metadata": {
        "id": "view-in-github",
        "colab_type": "text"
      },
      "source": [
        "<a href=\"https://colab.research.google.com/github/prof-eduardo-galego/fiap-labs-data-analysis/blob/main/Desafio_Pr%C3%A1tico_II.ipynb\" target=\"_parent\"><img src=\"https://colab.research.google.com/assets/colab-badge.svg\" alt=\"Open In Colab\"/></a>"
      ]
    },
    {
      "cell_type": "markdown",
      "source": [
        "# Desafio Prático 2\n",
        "\n",
        "Usando a linguagem R, a partir do seguinte dataset, apresente um gráfico que demonstre o desempenho dos times brasileiros nos jogos olímpicos (use a sua criatividade!):"
      ],
      "metadata": {
        "id": "Lweq60uymAQn"
      }
    },
    {
      "cell_type": "code",
      "source": [
        "library(readr)\n",
        "df <- read_csv('https://raw.githubusercontent.com/KeithGalli/Olympics-Dataset/refs/heads/master/results/results.csv', show_col_types = FALSE)\n",
        "\n",
        "# Filtrando somente os times brasileiros que ganharam medalha:\n",
        "df_br <- df[df$NOC == 'BRA' & !is.na(df$Medal),]\n",
        "\n",
        "# Extraindo o atributo Year a partir de Games\n",
        "df_br$Year <- as.integer(substr(df_br$Games, 1, 4))\n",
        "head(df_br)\n",
        "\n",
        "# Informe seu código aqui"
      ],
      "metadata": {
        "colab": {
          "base_uri": "https://localhost:8080/",
          "height": 286
        },
        "id": "QznllNEUMFIf",
        "outputId": "f7e1cc46-239e-43fe-b2c2-393aabf434c7"
      },
      "execution_count": null,
      "outputs": [
        {
          "output_type": "display_data",
          "data": {
            "text/html": [
              "<table class=\"dataframe\">\n",
              "<caption>A tibble: 6 × 12</caption>\n",
              "<thead>\n",
              "\t<tr><th scope=col>Games</th><th scope=col>Event</th><th scope=col>Team</th><th scope=col>Pos</th><th scope=col>Medal</th><th scope=col>As</th><th scope=col>athlete_id</th><th scope=col>NOC</th><th scope=col>Discipline</th><th scope=col>Nationality</th><th scope=col>Unnamed: 7</th><th scope=col>Year</th></tr>\n",
              "\t<tr><th scope=col>&lt;chr&gt;</th><th scope=col>&lt;chr&gt;</th><th scope=col>&lt;chr&gt;</th><th scope=col>&lt;chr&gt;</th><th scope=col>&lt;chr&gt;</th><th scope=col>&lt;chr&gt;</th><th scope=col>&lt;dbl&gt;</th><th scope=col>&lt;chr&gt;</th><th scope=col>&lt;chr&gt;</th><th scope=col>&lt;chr&gt;</th><th scope=col>&lt;lgl&gt;</th><th scope=col>&lt;int&gt;</th></tr>\n",
              "</thead>\n",
              "<tbody>\n",
              "\t<tr><td>1960 Summer Olympics</td><td>Basketball, Men (Olympic)  </td><td>Brazil</td><td>3.0</td><td>Bronze</td><td>Wlamir Marques</td><td>5090</td><td>BRA</td><td>Basketball (Basketball)</td><td>NA</td><td>NA</td><td>1960</td></tr>\n",
              "\t<tr><td>1964 Summer Olympics</td><td>Basketball, Men (Olympic)  </td><td>Brazil</td><td>3.0</td><td>Bronze</td><td>Wlamir Marques</td><td>5090</td><td>BRA</td><td>Basketball (Basketball)</td><td>NA</td><td>NA</td><td>1964</td></tr>\n",
              "\t<tr><td>1996 Summer Olympics</td><td>Basketball, Women (Olympic)</td><td>Brazil</td><td>2.0</td><td>Silver</td><td>Leila         </td><td>5205</td><td>BRA</td><td>Basketball (Basketball)</td><td>NA</td><td>NA</td><td>1996</td></tr>\n",
              "\t<tr><td>1996 Summer Olympics</td><td>Basketball, Women (Olympic)</td><td>Brazil</td><td>2.0</td><td>Silver</td><td>Marta Sobral  </td><td>5206</td><td>BRA</td><td>Basketball (Basketball)</td><td>NA</td><td>NA</td><td>1996</td></tr>\n",
              "\t<tr><td>2000 Summer Olympics</td><td>Basketball, Women (Olympic)</td><td>Brazil</td><td>3.0</td><td>Bronze</td><td>Marta Sobral  </td><td>5206</td><td>BRA</td><td>Basketball (Basketball)</td><td>NA</td><td>NA</td><td>2000</td></tr>\n",
              "\t<tr><td>1996 Summer Olympics</td><td>Basketball, Women (Olympic)</td><td>Brazil</td><td>2.0</td><td>Silver</td><td>Janeth        </td><td>5218</td><td>BRA</td><td>Basketball (Basketball)</td><td>NA</td><td>NA</td><td>1996</td></tr>\n",
              "</tbody>\n",
              "</table>\n"
            ],
            "text/markdown": "\nA tibble: 6 × 12\n\n| Games &lt;chr&gt; | Event &lt;chr&gt; | Team &lt;chr&gt; | Pos &lt;chr&gt; | Medal &lt;chr&gt; | As &lt;chr&gt; | athlete_id &lt;dbl&gt; | NOC &lt;chr&gt; | Discipline &lt;chr&gt; | Nationality &lt;chr&gt; | Unnamed: 7 &lt;lgl&gt; | Year &lt;int&gt; |\n|---|---|---|---|---|---|---|---|---|---|---|---|\n| 1960 Summer Olympics | Basketball, Men (Olympic)   | Brazil | 3.0 | Bronze | Wlamir Marques | 5090 | BRA | Basketball (Basketball) | NA | NA | 1960 |\n| 1964 Summer Olympics | Basketball, Men (Olympic)   | Brazil | 3.0 | Bronze | Wlamir Marques | 5090 | BRA | Basketball (Basketball) | NA | NA | 1964 |\n| 1996 Summer Olympics | Basketball, Women (Olympic) | Brazil | 2.0 | Silver | Leila          | 5205 | BRA | Basketball (Basketball) | NA | NA | 1996 |\n| 1996 Summer Olympics | Basketball, Women (Olympic) | Brazil | 2.0 | Silver | Marta Sobral   | 5206 | BRA | Basketball (Basketball) | NA | NA | 1996 |\n| 2000 Summer Olympics | Basketball, Women (Olympic) | Brazil | 3.0 | Bronze | Marta Sobral   | 5206 | BRA | Basketball (Basketball) | NA | NA | 2000 |\n| 1996 Summer Olympics | Basketball, Women (Olympic) | Brazil | 2.0 | Silver | Janeth         | 5218 | BRA | Basketball (Basketball) | NA | NA | 1996 |\n\n",
            "text/latex": "A tibble: 6 × 12\n\\begin{tabular}{llllllllllll}\n Games & Event & Team & Pos & Medal & As & athlete\\_id & NOC & Discipline & Nationality & Unnamed: 7 & Year\\\\\n <chr> & <chr> & <chr> & <chr> & <chr> & <chr> & <dbl> & <chr> & <chr> & <chr> & <lgl> & <int>\\\\\n\\hline\n\t 1960 Summer Olympics & Basketball, Men (Olympic)   & Brazil & 3.0 & Bronze & Wlamir Marques & 5090 & BRA & Basketball (Basketball) & NA & NA & 1960\\\\\n\t 1964 Summer Olympics & Basketball, Men (Olympic)   & Brazil & 3.0 & Bronze & Wlamir Marques & 5090 & BRA & Basketball (Basketball) & NA & NA & 1964\\\\\n\t 1996 Summer Olympics & Basketball, Women (Olympic) & Brazil & 2.0 & Silver & Leila          & 5205 & BRA & Basketball (Basketball) & NA & NA & 1996\\\\\n\t 1996 Summer Olympics & Basketball, Women (Olympic) & Brazil & 2.0 & Silver & Marta Sobral   & 5206 & BRA & Basketball (Basketball) & NA & NA & 1996\\\\\n\t 2000 Summer Olympics & Basketball, Women (Olympic) & Brazil & 3.0 & Bronze & Marta Sobral   & 5206 & BRA & Basketball (Basketball) & NA & NA & 2000\\\\\n\t 1996 Summer Olympics & Basketball, Women (Olympic) & Brazil & 2.0 & Silver & Janeth         & 5218 & BRA & Basketball (Basketball) & NA & NA & 1996\\\\\n\\end{tabular}\n",
            "text/plain": [
              "  Games                Event                       Team   Pos Medal \n",
              "1 1960 Summer Olympics Basketball, Men (Olympic)   Brazil 3.0 Bronze\n",
              "2 1964 Summer Olympics Basketball, Men (Olympic)   Brazil 3.0 Bronze\n",
              "3 1996 Summer Olympics Basketball, Women (Olympic) Brazil 2.0 Silver\n",
              "4 1996 Summer Olympics Basketball, Women (Olympic) Brazil 2.0 Silver\n",
              "5 2000 Summer Olympics Basketball, Women (Olympic) Brazil 3.0 Bronze\n",
              "6 1996 Summer Olympics Basketball, Women (Olympic) Brazil 2.0 Silver\n",
              "  As             athlete_id NOC Discipline              Nationality Unnamed: 7\n",
              "1 Wlamir Marques 5090       BRA Basketball (Basketball) NA          NA        \n",
              "2 Wlamir Marques 5090       BRA Basketball (Basketball) NA          NA        \n",
              "3 Leila          5205       BRA Basketball (Basketball) NA          NA        \n",
              "4 Marta Sobral   5206       BRA Basketball (Basketball) NA          NA        \n",
              "5 Marta Sobral   5206       BRA Basketball (Basketball) NA          NA        \n",
              "6 Janeth         5218       BRA Basketball (Basketball) NA          NA        \n",
              "  Year\n",
              "1 1960\n",
              "2 1964\n",
              "3 1996\n",
              "4 1996\n",
              "5 2000\n",
              "6 1996"
            ]
          },
          "metadata": {}
        }
      ]
    },
    {
      "cell_type": "markdown",
      "source": [
        "Dicas do que fazer:\n",
        "1. Gráfico de linha do desempenho de uma determinada equipe ao longo dos anos;\n",
        "1. Gráfico de barras das 10 equipes que mais ganharam medalhas;\n",
        "1. Gráfico de barras das equipes que mais participaram de olimpíadas;\n",
        "1. Gráfico de linhas dos esportes que mais trouxeram medalhas."
      ],
      "metadata": {
        "id": "LRUjLayMM1NF"
      }
    }
  ]
}