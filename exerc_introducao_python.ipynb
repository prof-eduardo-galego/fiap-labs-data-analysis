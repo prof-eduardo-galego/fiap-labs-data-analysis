{
  "nbformat": 4,
  "nbformat_minor": 0,
  "metadata": {
    "colab": {
      "provenance": [],
      "authorship_tag": "ABX9TyM7qYdrfk3ig/RViYDZc7Cs",
      "include_colab_link": true
    },
    "kernelspec": {
      "name": "python3",
      "display_name": "Python 3"
    },
    "language_info": {
      "name": "python"
    }
  },
  "cells": [
    {
      "cell_type": "markdown",
      "metadata": {
        "id": "view-in-github",
        "colab_type": "text"
      },
      "source": [
        "<a href=\"https://colab.research.google.com/github/prof-eduardo-galego/fiap-labs-data-analysis/blob/main/exerc_introducao_python.ipynb\" target=\"_parent\"><img src=\"https://colab.research.google.com/assets/colab-badge.svg\" alt=\"Open In Colab\"/></a>"
      ]
    },
    {
      "cell_type": "markdown",
      "source": [
        "# Lista de Exercícios - Introdução à Python\n",
        "\n",
        "Elabore os exercícios abaixo:"
      ],
      "metadata": {
        "id": "aPuRGVx2cY38"
      }
    },
    {
      "cell_type": "markdown",
      "source": [
        "1) Desenvolva um programa que tenha uma função que verifique se um número inteiro qualquer é par ou impar:\n",
        "\n",
        "**Dica:** Utilize o operador matemática '%', que retorna o resto de uma divisão."
      ],
      "metadata": {
        "id": "_Ur4X-jcc7M8"
      }
    },
    {
      "cell_type": "code",
      "source": [],
      "metadata": {
        "id": "AVr5vf9Tc8Tz"
      },
      "execution_count": null,
      "outputs": []
    },
    {
      "cell_type": "markdown",
      "source": [
        "2) Desenvolva um programa que armazene quatro notas em uma lista e que apresente: a média final, a maior nota, a menor nota e a mensagem \"APROVADO\" caso o média seja maior que 7; caso contrário, apresentar a mensagem \"REPROVADO\".\n",
        "\n",
        "**Dica:** Utilize uma estrutura de controle de fluxo, como o `while`. Não se esqueça de sempre inicializar as variáveis antes do loop."
      ],
      "metadata": {
        "id": "Yu-775vcc9Y7"
      }
    },
    {
      "cell_type": "code",
      "source": [],
      "metadata": {
        "id": "J_bJib6zd7dk"
      },
      "execution_count": null,
      "outputs": []
    },
    {
      "cell_type": "markdown",
      "source": [
        "3) Desenvolva um programa que converta qualquer texto na língua do `P`. Exemplo, a frase \"Já sei programar em python\" ficaria \"Pá pei proprapar em pyphon\".\n",
        "\n",
        "**Dica:** Itere sobre o texto, procurando identificar consoantes seguidas de vogais ou as letras 'r', 'h' e 'l' e substitua por 'p'. Pode utilizar regex."
      ],
      "metadata": {
        "id": "1R4k0DtMd8s7"
      }
    },
    {
      "cell_type": "code",
      "source": [],
      "metadata": {
        "id": "Zb2GeIcrgZ2r"
      },
      "execution_count": null,
      "outputs": []
    }
  ]
}